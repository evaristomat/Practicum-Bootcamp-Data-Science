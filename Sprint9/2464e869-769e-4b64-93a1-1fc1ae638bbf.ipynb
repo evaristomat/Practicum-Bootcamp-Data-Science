{
 "cells": [
  {
   "cell_type": "markdown",
   "metadata": {},
   "source": [
    "Olá, Matheus!\n",
    "\n",
    "Meu nome é Ramon e te ajudarei neste projeto. Fico feliz em rever seu projeto hoje.\n",
    "\n",
    "Ao ao longo do texto farei algumas observações sobre melhorias no código e também farei comentários sobre suas percepções sobre o assunto. Estarei aberta a feedbacks e discussões sobre o tema.\n",
    "\n",
    "Você encontrará meus comentários abaixo - **por favor, não os mova, modifique ou exclua**.\n",
    "\n",
    "Você pode encontrar meus comentários em caixas verdes, amarelas ou vermelhas como esta:\n",
    "\n",
    "<div class=\"alert alert-block alert-success\">\n",
    "<b> Comentário do revisor: </b> <a class=\"tocSkip\"></a>\n",
    "\n",
    "Sucesso. Tudo foi feito corretamente.\n",
    "</div>\n",
    "\n",
    "\n",
    "\n",
    "<div class=\"alert alert-block alert-warning\">\n",
    "<b>Comentário do revisor: </b> <a class=\"tocSkip\"></a>\n",
    "\n",
    "Observações. Algumas recomendações.\n",
    "</div>\n",
    "\n",
    "<div class=\"alert alert-block alert-danger\">\n",
    "\n",
    "<b>Comentário do revisor: </b> <a class=\"tocSkip\"></a>\n",
    "    \n",
    "Precisa de correções. O bloqueio requer algumas correções. O trabalho não pode ser aceito com os comentários em vermelho.\n",
    "</div>\n",
    "\n",
    "Você pode me responder usando isso:\n",
    "\n",
    "<div class=\"alert alert-block alert-info\">\n",
    "<b>Resposta do Aluno.</b> <a class=\"tocSkip\"></a>\n",
    "</div>"
   ]
  },
  {
   "cell_type": "markdown",
   "metadata": {},
   "source": [
    "Descrição do projeto:\n",
    "\n",
    "Você trabalha na empresa de mineração Oleobrás. Sua tarefa é encontrar o melhor lugar para um novo poço.\n",
    "Etapas para escolher o lugar:\n",
    "\n",
    "* Coletar os parâmetros de poços de petróleo na região selecionada: a qualidade de petróleo e o volume de reservas;\n",
    "* Construir um modelo para predizer o volume de reservas nos novos poços;\n",
    "* Escolher os poços de petróleo que têm os maiores valores estimados;\n",
    "* Escolher a região com o maior lucro total para os poços de petróleo selecionados.\n",
    "\n",
    "Você tem dados sobre amostras de petróleo de três regiões. Os parâmetros de cada poço de petróleo na região já são conhecidos. Construa um modelo que te ajudará a escolher a região com a margem de lucro mais alta. Utilize a técnica de Bootstrapping para analisar lucro potencial e riscos."
   ]
  },
  {
   "cell_type": "markdown",
   "metadata": {},
   "source": [
    "Apenas regressão linear pode ser usada para o treinamento do modelo (o resto não são previsíveis o suficiente)."
   ]
  },
  {
   "cell_type": "markdown",
   "metadata": {},
   "source": [
    "# Projeto Oleobrás"
   ]
  },
  {
   "cell_type": "markdown",
   "metadata": {},
   "source": [
    "## Importando arquivos e preparando os dados"
   ]
  },
  {
   "cell_type": "code",
   "execution_count": 1,
   "metadata": {},
   "outputs": [],
   "source": [
    "import pandas as pd\n",
    "import numpy as np\n",
    "from scipy import stats as st\n",
    "import matplotlib.pyplot as plt\n",
    "from sklearn.model_selection import train_test_split\n",
    "from sklearn.linear_model import LinearRegression\t\n",
    "from sklearn.metrics import mean_squared_error\n",
    "from sklearn.metrics import r2_score\n",
    "from sklearn.model_selection import GridSearchCV\n",
    "from sklearn.metrics import mean_squared_error"
   ]
  },
  {
   "cell_type": "markdown",
   "metadata": {},
   "source": [
    "<div class=\"alert alert-block alert-success\">\n",
    "<b> Comentário do revisor: </b> <a class=\"tocSkip\"></a>\n",
    "\n",
    "Correto\n",
    "</div>"
   ]
  },
  {
   "cell_type": "code",
   "execution_count": 2,
   "metadata": {},
   "outputs": [],
   "source": [
    "region0 = pd.read_csv('/datasets/geo_data_0.csv')\n",
    "region1 = pd.read_csv(\"/datasets/geo_data_1.csv\")\n",
    "region2 = pd.read_csv(\"/datasets/geo_data_2.csv\")\n",
    "regions = [region0, region1, region2]"
   ]
  },
  {
   "cell_type": "markdown",
   "metadata": {},
   "source": [
    "<div class=\"alert alert-block alert-success\">\n",
    "<b> Comentário do revisor: </b> <a class=\"tocSkip\"></a>\n",
    "\n",
    "Correto\n",
    "</div>"
   ]
  },
  {
   "cell_type": "code",
   "execution_count": 3,
   "metadata": {},
   "outputs": [
    {
     "name": "stdout",
     "output_type": "stream",
     "text": [
      "<class 'pandas.core.frame.DataFrame'>\n",
      "RangeIndex: 100000 entries, 0 to 99999\n",
      "Data columns (total 5 columns):\n",
      " #   Column   Non-Null Count   Dtype  \n",
      "---  ------   --------------   -----  \n",
      " 0   id       100000 non-null  object \n",
      " 1   f0       100000 non-null  float64\n",
      " 2   f1       100000 non-null  float64\n",
      " 3   f2       100000 non-null  float64\n",
      " 4   product  100000 non-null  float64\n",
      "dtypes: float64(4), object(1)\n",
      "memory usage: 3.8+ MB\n",
      "None\n",
      "**************************************************\n",
      "<class 'pandas.core.frame.DataFrame'>\n",
      "RangeIndex: 100000 entries, 0 to 99999\n",
      "Data columns (total 5 columns):\n",
      " #   Column   Non-Null Count   Dtype  \n",
      "---  ------   --------------   -----  \n",
      " 0   id       100000 non-null  object \n",
      " 1   f0       100000 non-null  float64\n",
      " 2   f1       100000 non-null  float64\n",
      " 3   f2       100000 non-null  float64\n",
      " 4   product  100000 non-null  float64\n",
      "dtypes: float64(4), object(1)\n",
      "memory usage: 3.8+ MB\n",
      "None\n",
      "**************************************************\n",
      "<class 'pandas.core.frame.DataFrame'>\n",
      "RangeIndex: 100000 entries, 0 to 99999\n",
      "Data columns (total 5 columns):\n",
      " #   Column   Non-Null Count   Dtype  \n",
      "---  ------   --------------   -----  \n",
      " 0   id       100000 non-null  object \n",
      " 1   f0       100000 non-null  float64\n",
      " 2   f1       100000 non-null  float64\n",
      " 3   f2       100000 non-null  float64\n",
      " 4   product  100000 non-null  float64\n",
      "dtypes: float64(4), object(1)\n",
      "memory usage: 3.8+ MB\n",
      "None\n",
      "**************************************************\n"
     ]
    }
   ],
   "source": [
    "print(region0.info())\n",
    "print(\"*\"*50)\n",
    "print(region1.info())\n",
    "print(\"*\"*50)\n",
    "print(region2.info())\n",
    "print(\"*\"*50)"
   ]
  },
  {
   "cell_type": "markdown",
   "metadata": {},
   "source": [
    "<div class=\"alert alert-block alert-success\">\n",
    "<b> Comentário do revisor: </b> <a class=\"tocSkip\"></a>\n",
    "\n",
    "Correto\n",
    "</div>"
   ]
  },
  {
   "cell_type": "code",
   "execution_count": 4,
   "metadata": {},
   "outputs": [
    {
     "name": "stdout",
     "output_type": "stream",
     "text": [
      "                  f0             f1             f2        product\n",
      "count  100000.000000  100000.000000  100000.000000  100000.000000\n",
      "mean        0.500419       0.250143       2.502647      92.500000\n",
      "std         0.871832       0.504433       3.248248      44.288691\n",
      "min        -1.408605      -0.848218     -12.088328       0.000000\n",
      "25%        -0.072580      -0.200881       0.287748      56.497507\n",
      "50%         0.502360       0.250252       2.515969      91.849972\n",
      "75%         1.073581       0.700646       4.715088     128.564089\n",
      "max         2.362331       1.343769      16.003790     185.364347\n",
      "**************************************************\n",
      "                  f0             f1             f2        product\n",
      "count  100000.000000  100000.000000  100000.000000  100000.000000\n",
      "mean        1.141296      -4.796579       2.494541      68.825000\n",
      "std         8.965932       5.119872       1.703572      45.944423\n",
      "min       -31.609576     -26.358598      -0.018144       0.000000\n",
      "25%        -6.298551      -8.267985       1.000021      26.953261\n",
      "50%         1.153055      -4.813172       2.011479      57.085625\n",
      "75%         8.621015      -1.332816       3.999904     107.813044\n",
      "max        29.421755      18.734063       5.019721     137.945408\n",
      "**************************************************\n",
      "                  f0             f1             f2        product\n",
      "count  100000.000000  100000.000000  100000.000000  100000.000000\n",
      "mean        0.002023      -0.002081       2.495128      95.000000\n",
      "std         1.732045       1.730417       3.473445      44.749921\n",
      "min        -8.760004      -7.084020     -11.970335       0.000000\n",
      "25%        -1.162288      -1.174820       0.130359      59.450441\n",
      "50%         0.009424      -0.009482       2.484236      94.925613\n",
      "75%         1.158535       1.163678       4.858794     130.595027\n",
      "max         7.238262       7.844801      16.739402     190.029838\n",
      "**************************************************\n"
     ]
    }
   ],
   "source": [
    "print(region0.describe())\n",
    "print(\"*\"*50)\n",
    "print(region1.describe())\n",
    "print(\"*\"*50)\n",
    "print(region2.describe())\n",
    "print(\"*\"*50)"
   ]
  },
  {
   "cell_type": "markdown",
   "metadata": {},
   "source": [
    "<div class=\"alert alert-block alert-success\">\n",
    "<b> Comentário do revisor: </b> <a class=\"tocSkip\"></a>\n",
    "\n",
    "Correto\n",
    "</div>"
   ]
  },
  {
   "cell_type": "markdown",
   "metadata": {},
   "source": [
    "## Treinamento do modelo"
   ]
  },
  {
   "cell_type": "code",
   "execution_count": 5,
   "metadata": {},
   "outputs": [],
   "source": [
    "predictions = {}\n",
    "targets = {}"
   ]
  },
  {
   "cell_type": "code",
   "execution_count": 6,
   "metadata": {},
   "outputs": [
    {
     "name": "stdout",
     "output_type": "stream",
     "text": [
      "Region 0\n",
      "MSE: 1412.21\n",
      "R²: 0.28\n",
      "Volume médio de reservas - 92.50\n",
      "***********************************\n",
      "Region 1\n",
      "MSE: 0.80\n",
      "R²: 1.00\n",
      "Volume médio de reservas - 68.83\n",
      "***********************************\n",
      "Region 2\n",
      "MSE: 1602.38\n",
      "R²: 0.21\n",
      "Volume médio de reservas - 95.00\n",
      "***********************************\n"
     ]
    }
   ],
   "source": [
    "for i in range(len(regions)):\n",
    "    print(f\"Region {i}\")\n",
    "    target = regions[i]['product']\n",
    "    features = regions[i].drop(['product', \"id\"], axis=1)\n",
    "    features_train, features_valid, target_train, target_valid = train_test_split(\n",
    "    features, target, test_size=0.25, random_state=12345)\n",
    "    \n",
    "    model = LinearRegression()\n",
    "    model.fit(features_train, target_train)\n",
    "\n",
    "    predictions_valid = model.predict(features_valid)\n",
    "    \n",
    "    predictions[i] = predictions_valid\n",
    "    targets[i] = target_valid\n",
    "    # Model performance\n",
    "    mse = mean_squared_error(target_valid, predictions_valid)\n",
    "    r2 = r2_score(target_valid, predictions_valid)\n",
    "    print(f\"MSE: {mse:.2f}\")\n",
    "    print(f\"R²: {r2:.2f}\") \n",
    "    print(f\"Volume médio de reservas - {regions[i]['product'].mean():.2f}\")\n",
    "    print(\"*\"*35)"
   ]
  },
  {
   "cell_type": "markdown",
   "metadata": {},
   "source": [
    "<div class=\"alert alert-block alert-success\">\n",
    "<b> Comentário do revisor: </b> <a class=\"tocSkip\"></a>\n",
    "\n",
    "Correto\n",
    "</div>"
   ]
  },
  {
   "cell_type": "markdown",
   "metadata": {},
   "source": [
    "### Analise os resultados."
   ]
  },
  {
   "cell_type": "markdown",
   "metadata": {},
   "source": [
    "A partir dos resultados obtidos por região, podemos concluir que o modelo tem um desempenho diferente em cada região.\n",
    "\n",
    "Na região 0, o MSE é alto e o R² é baixo, o que indica que o modelo não tem uma boa capacidade de previsão e explicação dos dados. Isso pode ser devido a uma falta de relação linear entre as variáveis ou a uma amostra desbalanceada. Além disso, o volume médio de reservas é relativamente alto, o que pode ser uma oportunidade para explorar poços na região.\n",
    "\n",
    "Na região 1, o MSE é baixo e o R² é 1, o que indica um modelo com uma boa capacidade de previsão e explicação dos dados. Isso pode ser devido a uma relação linear forte entre as variáveis ou a uma amostra balanceada. Além disso, o volume médio de reservas é relativamente baixo, o que pode ser um fator a ser considerado na escolha de poços na região.\n",
    "\n",
    "Na região 2, o MSE é alto e o R² é baixo, o que indica um modelo com uma baixa capacidade de previsão e explicação dos dados. Isso pode ser devido a uma falta de relação linear entre as variáveis ou a uma amostra desbalanceada. Além disso, o volume médio de reservas é relativamente alto, o que pode ser uma oportunidade para explorar poços na região.\n",
    "\n",
    "Em resumo, os resultados mostram que o modelo tem um bom desempenho na região 1, enquanto tem um desempenho mediano na região 0 e uma baixa capacidade de previsão na região 2."
   ]
  },
  {
   "cell_type": "markdown",
   "metadata": {},
   "source": [
    "<div class=\"alert alert-block alert-success\">\n",
    "<b> Comentário do revisor: </b> <a class=\"tocSkip\"></a>\n",
    "\n",
    "Correto\n",
    "</div>"
   ]
  },
  {
   "cell_type": "markdown",
   "metadata": {},
   "source": [
    "## Prepare-se para o cálculo de lucro:"
   ]
  },
  {
   "cell_type": "markdown",
   "metadata": {},
   "source": [
    "### Armazene todos os valores necessários para os cálculos em variáveis separadas."
   ]
  },
  {
   "cell_type": "markdown",
   "metadata": {},
   "source": [
    "### Calcule o volume de reservas suficiente para desenvolver um novo poço sem prejuizos. Compare o valor recebido com o valor médio de reservas em cada região."
   ]
  },
  {
   "cell_type": "code",
   "execution_count": 7,
   "metadata": {},
   "outputs": [
    {
     "data": {
      "text/plain": [
       "111.11111111111111"
      ]
     },
     "execution_count": 7,
     "metadata": {},
     "output_type": "execute_result"
    }
   ],
   "source": [
    "quantidade_pocos = 200\n",
    "custos_200_pocos = 100000000\n",
    "receita_unitaria_product = 4500\n",
    "\n",
    "valor_base_poco = custos_200_pocos / quantidade_pocos\n",
    "volume_minimo_poco = valor_base_poco / receita_unitaria_product\n",
    "\n",
    "volume_minimo_poco"
   ]
  },
  {
   "cell_type": "markdown",
   "metadata": {},
   "source": [
    "O valor minimo de reserva que um poço deve ter para ser contruido para que o lucro seja igual ao custo (break even) é de 111 milhares de barris. (110 * 10^3)"
   ]
  },
  {
   "cell_type": "markdown",
   "metadata": {},
   "source": [
    "<div class=\"alert alert-block alert-success\">\n",
    "<b> Comentário do revisor: </b> <a class=\"tocSkip\"></a>\n",
    "\n",
    "Correto\n",
    "</div>"
   ]
  },
  {
   "cell_type": "markdown",
   "metadata": {},
   "source": [
    "### Forneça conclusões sobre a preparação para a etapa de cálculo de lucro."
   ]
  },
  {
   "cell_type": "markdown",
   "metadata": {},
   "source": [
    "A média das três regiões ficou abaixo do volume minimo para o break even da construção de um poço.\n",
    "Uma análise levando em consideração apenas a média das regiões implica dizer que o investimento geraria prejuizo."
   ]
  },
  {
   "cell_type": "markdown",
   "metadata": {},
   "source": [
    "<div class=\"alert alert-block alert-success\">\n",
    "<b> Comentário do revisor: </b> <a class=\"tocSkip\"></a>\n",
    "\n",
    "Correto\n",
    "</div>"
   ]
  },
  {
   "cell_type": "markdown",
   "metadata": {},
   "source": [
    "## Escreva uma função para calcular lucro de um conjunto de poços de petróleo selecionados e predições do modelo:"
   ]
  },
  {
   "cell_type": "code",
   "execution_count": 8,
   "metadata": {},
   "outputs": [],
   "source": [
    "def profit(target, predictions):\n",
    "    predictions_sorted = predictions.sort_values(ascending=False)\n",
    "    selected_points = target[predictions_sorted.index][:200]\n",
    "    product = selected_points.sum()\n",
    "    revenue = product * receita_unitaria_product\n",
    "    cost = custos_200_pocos\n",
    "    return revenue - cost"
   ]
  },
  {
   "cell_type": "markdown",
   "metadata": {},
   "source": [
    "<div class=\"alert alert-block alert-success\">\n",
    "<b> Comentário do revisor: </b> <a class=\"tocSkip\"></a>\n",
    "\n",
    "Correto. Excelente que o código vetorizado\n",
    "</div>"
   ]
  },
  {
   "cell_type": "code",
   "execution_count": 9,
   "metadata": {},
   "outputs": [
    {
     "name": "stdout",
     "output_type": "stream",
     "text": [
      "Lucro Region0\n",
      "33208260.43139851\n",
      "********************\n",
      "Lucro Region1\n",
      "24150866.966815114\n",
      "********************\n",
      "Lucro Region2\n",
      "27103499.635998324\n",
      "********************\n"
     ]
    }
   ],
   "source": [
    "for i,j in zip(targets, predictions):\n",
    "    print(f\"Lucro Region{i}\")\n",
    "    print(profit(targets[i],pd.DataFrame(data = predictions[i],\n",
    "                  index = targets[i].index, \n",
    "                  columns = [\"predictions\"])[\"predictions\"]))\n",
    "    print(\"*\"*20)"
   ]
  },
  {
   "cell_type": "markdown",
   "metadata": {},
   "source": [
    "<div class=\"alert alert-block alert-success\">\n",
    "<b> Comentário do revisor: </b> <a class=\"tocSkip\"></a>\n",
    "\n",
    "Correto. Parabéns pelo uso da função zip()\n",
    "</div>"
   ]
  },
  {
   "cell_type": "markdown",
   "metadata": {},
   "source": [
    "## Calcule riscos e lucro para cada região:"
   ]
  },
  {
   "cell_type": "markdown",
   "metadata": {},
   "source": [
    "### Utilize a técnica de bootstrapping com 1000 amostras para encontrar a distribuição de lucros."
   ]
  },
  {
   "cell_type": "code",
   "execution_count": 26,
   "metadata": {},
   "outputs": [],
   "source": [
    "state = np.random.RandomState(12345)\n",
    "\n",
    "# cria uma lista para armazenar os resultados de cada região\n",
    "results = []\n",
    "\n",
    "# itera pelas regiões\n",
    "for region in range(3):\n",
    "    values = []\n",
    "    \n",
    "    # aplica o mesmo código para cada região\n",
    "    for i in range(1000):\n",
    "        target_subsample = targets[region].sample(n=500, replace=True, random_state=state)\n",
    "        predictions_subsample = pd.DataFrame(data = predictions[region],\n",
    "                      index = targets[region].index, \n",
    "                      columns = [\"predictions\"])[\"predictions\"][target_subsample.index]\n",
    "\n",
    "        values.append(profit(target_subsample, predictions_subsample))\n",
    "\n",
    "    # armazena os resultados da região atual em uma lista\n",
    "    values = pd.Series(values)\n",
    "    results.append(values)"
   ]
  },
  {
   "cell_type": "markdown",
   "metadata": {},
   "source": [
    "<div class=\"alert alert-block alert-warning\">\n",
    "<b> Comentário do revisor: </b> <a class=\"tocSkip\"></a>\n",
    "\n",
    "Correto, porém há um pequeno detalhe: ao fazer bootstrapping, usamos toda a amostra com repetição. Aqui, você usou n=500.\n",
    "</div>"
   ]
  },
  {
   "cell_type": "code",
   "execution_count": 27,
   "metadata": {},
   "outputs": [
    {
     "data": {
      "image/png": "[encoded data removed]",
      "text/plain": [
       "<Figure size 432x288 with 1 Axes>"
      ]
     },
     "metadata": {
      "needs_background": "light"
     },
     "output_type": "display_data"
    },
    {
     "data": {
      "image/png": "[encoded data removed]",
      "text/plain": [
       "<Figure size 432x288 with 1 Axes>"
      ]
     },
     "metadata": {
      "needs_background": "light"
     },
     "output_type": "display_data"
    },
    {
     "data": {
      "image/png": "[encoded data removed]",
      "text/plain": [
       "<Figure size 432x288 with 1 Axes>"
      ]
     },
     "metadata": {
      "needs_background": "light"
     },
     "output_type": "display_data"
    }
   ],
   "source": [
    "for i in range(len(regions)):\n",
    "    plt.hist(results[i], bins = 20)\n",
    "    plt.ylabel('Quantity')\n",
    "    plt.xlabel(f'Profit')\n",
    "    plt.title(f'Region{i}')\n",
    "    plt.grid(True)\n",
    "    plt.show()"
   ]
  },
  {
   "cell_type": "markdown",
   "metadata": {},
   "source": [
    "<div class=\"alert alert-block alert-success\">\n",
    "<b> Comentário do revisor: </b> <a class=\"tocSkip\"></a>\n",
    "\n",
    "Correto\n",
    "</div>"
   ]
  },
  {
   "cell_type": "markdown",
   "metadata": {},
   "source": [
    "### Encontre lucro médio, intervalo de confiança de 95% e risco de prejuízo. Prejuízo é um lucro negativo, calcule-o como uma probabilidade e depois o expresse como uma porcentagem."
   ]
  },
  {
   "cell_type": "code",
   "execution_count": 12,
   "metadata": {
    "scrolled": true
   },
   "outputs": [
    {
     "name": "stdout",
     "output_type": "stream",
     "text": [
      "Média Região 0: 4259385.269105923\n",
      "intervalo de confiança de 95%: (4087322.0706869857, 4431448.467524861)\n",
      "Risco de prejuízo Region0 - 6.0%\n",
      "--------------------------------------------------\n",
      "Média Região 1: 5182594.93697325\n",
      "intervalo de confiança de 95%: (5052498.815766218, 5312691.058180281)\n",
      "Risco de prejuízo Region1 - 0.3%\n",
      "--------------------------------------------------\n",
      "Média Região 2: 4201940.0534405\n",
      "intervalo de confiança de 95%: (4025287.0365036144, 4378593.070377386)\n",
      "Risco de prejuízo Region2 - 6.2%\n",
      "--------------------------------------------------\n"
     ]
    }
   ],
   "source": [
    "for i in range(len(results)):\n",
    "    print(f'Média Região {i}: {results[i].mean()}')\n",
    "\n",
    "    confidence_interval = st.t.interval(\n",
    "        0.95, len(results[i])-1, results[i].mean(), results[i].sem()) \n",
    "\n",
    "    print('intervalo de confiança de 95%:', confidence_interval)\n",
    "    print(f\"Risco de prejuízo Region{i} - {len(results[i][results[i] < 0]) * 100 / 1000}%\")\n",
    "    print(\"-\"*50)"
   ]
  },
  {
   "cell_type": "markdown",
   "metadata": {},
   "source": [
    "<div class=\"alert alert-block alert-success\">\n",
    "<b> Comentário do revisor: </b> <a class=\"tocSkip\"></a>\n",
    "\n",
    "Correto\n",
    "</div>"
   ]
  },
  {
   "cell_type": "markdown",
   "metadata": {},
   "source": [
    "### Apresente suas conclusões: sugira uma região para o desenvolvimento de poços de petróleo e justifique sua escolha."
   ]
  },
  {
   "cell_type": "markdown",
   "metadata": {},
   "source": [
    "O projeto Oleobrás teve como objetivo encontrar a melhor região para a construção de um novo poço de petróleo pela empresa. Para isso, foram coletados os parâmetros de poços de petróleo em três regiões diferentes e um modelo de regressão linear foi treinado para predizer o volume de reservas em novos poços. A região com o maior lucro total foi escolhida com base nos poços de petróleo selecionados. A técnica de Bootstrapping também foi utilizada para analisar o lucro potencial e os riscos associados. \n",
    "\n",
    "A partir da análise dos resultados obtidos no projeto, podemos concluir que o modelo de regressão linear utilizado apresentou um bom desempenho na região 1, um desempenho mediano na região 0 e uma baixa capacidade de previsão na região 2. Isso foi verificado pelas métricas de avaliação MSE e R², que medem o erro quadrático médio e a capacidade de explicação dos dados, respectivamente.\n",
    "\n",
    "Após treinar e validar o modelo, analisamos os resultados e chegamos à conclusão de que a região 1 é a mais promissora em termos de margem de lucro e em termos de risco de prejuízo é a menor."
   ]
  },
  {
   "cell_type": "markdown",
   "metadata": {},
   "source": [
    "\n",
    "<div class=\"alert alert-block alert-success\">\n",
    "<b>Comentário Geral do Revisor</b> <a class=\"tocSkip\"></a>\n",
    "\n",
    "Obrigado por enviar seu projeto. \n",
    "    \n",
    "Parabéns, você fez um excelente trabalho como sempre. Há apenas uma pequena observação quanto ao tamanho n do boostraping. Veja este link: https://www2.stat.duke.edu/courses/Spring20/sta199.002/slides/13-bootstrap.html#23 \"ake a bootstrap sample - a random sample taken with replacement from the original sample, of the same size as the original sample.\"\n",
    "</div>"
   ]
  }
 ],
 "metadata": {
  "kernelspec": {
   "display_name": "Python 3 (ipykernel)",
   "language": "python",
   "name": "python3"
  },
  "language_info": {
   "codemirror_mode": {
    "name": "ipython",
    "version": 3
   },
   "file_extension": ".py",
   "mimetype": "text/x-python",
   "name": "python",
   "nbconvert_exporter": "python",
   "pygments_lexer": "ipython3",
   "version": "3.9.5"
  },
  "toc": {
   "base_numbering": 1,
   "nav_menu": {},
   "number_sections": true,
   "sideBar": true,
   "skip_h1_title": true,
   "title_cell": "Table of Contents",
   "title_sidebar": "Contents",
   "toc_cell": false,
   "toc_position": {},
   "toc_section_display": true,
   "toc_window_display": false
  }
 },
 "nbformat": 4,
 "nbformat_minor": 2
}
