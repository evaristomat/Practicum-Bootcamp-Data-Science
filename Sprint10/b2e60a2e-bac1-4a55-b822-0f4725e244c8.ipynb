{
 "cells": [
  {
   "cell_type": "markdown",
   "metadata": {},
   "source": [
    "# ANTES DE FAZER A CONCLUSÃO ESTOU ENVIANDO PARA ANALISE FINAL"
   ]
  },
  {
   "cell_type": "markdown",
   "metadata": {},
   "source": [
    "Olá, Matheus!\n",
    "\n",
    "Meu nome é Ramon e te ajudarei neste projeto. Fico feliz em rever seu projeto hoje.\n",
    "\n",
    "Ao ao longo do texto farei algumas observações sobre melhorias no código e também farei comentários sobre suas percepções sobre o assunto. Estarei aberta a feedbacks e discussões sobre o tema.\n",
    "\n",
    "Você encontrará meus comentários abaixo - **por favor, não os mova, modifique ou exclua**.\n",
    "\n",
    "Você pode encontrar meus comentários em caixas verdes, amarelas ou vermelhas como esta:\n",
    "\n",
    "<div class=\"alert alert-block alert-success\">\n",
    "<b> Comentário do revisor: </b> <a class=\"tocSkip\"></a>\n",
    "\n",
    "Sucesso. Tudo foi feito corretamente.\n",
    "</div>\n",
    "\n",
    "<div class=\"alert alert-block alert-warning\">\n",
    "<b>Comentário do revisor: </b> <a class=\"tocSkip\"></a>\n",
    "\n",
    "Observações. Algumas recomendações.\n",
    "</div>\n",
    "\n",
    "<div class=\"alert alert-block alert-danger\">\n",
    "\n",
    "<b>Comentário do revisor: </b> <a class=\"tocSkip\"></a>\n",
    "    \n",
    "Precisa de correções. O bloqueio requer algumas correções. O trabalho não pode ser aceito com os comentários em vermelho.\n",
    "</div>\n",
    "\n",
    "Você pode me responder usando isso:\n",
    "\n",
    "<div class=\"alert alert-block alert-info\">\n",
    "<b>Resposta do Aluno.</b> <a class=\"tocSkip\"></a>\n",
    "</div>"
   ]
  },
  {
   "cell_type": "markdown",
   "metadata": {},
   "source": [
    "## Preparação dos dados"
   ]
  },
  {
   "cell_type": "code",
   "execution_count": 1,
   "metadata": {},
   "outputs": [],
   "source": [
    "# Importar os módulos necessários\n",
    "import sklearn\n",
    "import pandas as pd\n",
    "import numpy as np\n",
    "import matplotlib.pyplot as plt\n",
    "from sklearn.metrics import mean_absolute_error\n",
    "from sklearn.linear_model import LinearRegression\n",
    "from sklearn.model_selection import KFold\n",
    "from sklearn.feature_selection import RFE\n",
    "from sklearn.model_selection import GridSearchCV"
   ]
  },
  {
   "cell_type": "markdown",
   "metadata": {},
   "source": [
    "<div class=\"alert alert-block alert-success\">\n",
    "<b> Comentário do revisor: </b> <a class=\"tocSkip\"></a>\n",
    "\n",
    "Correto\n",
    "</div>\n"
   ]
  },
  {
   "cell_type": "markdown",
   "metadata": {},
   "source": [
    "### Abrir os arquivos de dados\n"
   ]
  },
  {
   "cell_type": "code",
   "execution_count": 2,
   "metadata": {},
   "outputs": [],
   "source": [
    "df_train = pd.read_csv(\"/datasets/gold_recovery_train.csv\")\n",
    "df_test = pd.read_csv(\"/datasets/gold_recovery_test.csv\")\n",
    "df_full = pd.read_csv(\"/datasets/gold_recovery_full.csv\")\n",
    "dataframes = [df_train, df_test, df_full]"
   ]
  },
  {
   "cell_type": "markdown",
   "metadata": {},
   "source": [
    "<div class=\"alert alert-block alert-success\">\n",
    "<b> Comentário do revisor: </b> <a class=\"tocSkip\"></a>\n",
    "\n",
    "Correto\n",
    "</div>\n"
   ]
  },
  {
   "cell_type": "markdown",
   "metadata": {},
   "source": [
    "### Verificação da exatidão dos cálculos da quantidade retirada para a característica rougher.output.recovery e cálculo do EAM"
   ]
  },
  {
   "attachments": {
    "image.png": {
     "image/png": "[encoded data removed]"
    }
   },
   "cell_type": "markdown",
   "metadata": {},
   "source": [
    "![image.png](attachment:image.png)"
   ]
  },
  {
   "cell_type": "code",
   "execution_count": 3,
   "metadata": {},
   "outputs": [],
   "source": [
    "c = df_train['rougher.output.concentrate_au']\n",
    "f = df_train['rougher.input.feed_au']\n",
    "t = df_train['rougher.output.tail_au']\n",
    "\n",
    "retirada = (c * (f - t)) * 100 / (f * (c - t))"
   ]
  },
  {
   "cell_type": "markdown",
   "metadata": {},
   "source": [
    "<div class=\"alert alert-block alert-success\">\n",
    "<b> Comentário do revisor: </b> <a class=\"tocSkip\"></a>\n",
    "\n",
    "Correto\n",
    "</div>\n"
   ]
  },
  {
   "cell_type": "code",
   "execution_count": 4,
   "metadata": {},
   "outputs": [
    {
     "name": "stdout",
     "output_type": "stream",
     "text": [
      "Mean absolute error: 1.0724115653039479e-14\n"
     ]
    }
   ],
   "source": [
    "# Cálculo do EAM entre os cálculos e os valores das características rougher.output.recovery\n",
    "error = (retirada - df_train['rougher.output.recovery']).abs().mean()\n",
    "print(\"Mean absolute error:\", error)"
   ]
  },
  {
   "cell_type": "markdown",
   "metadata": {},
   "source": [
    "<div class=\"alert alert-block alert-success\">\n",
    "<b> Comentário do revisor: </b> <a class=\"tocSkip\"></a>\n",
    "\n",
    "Correto\n",
    "</div>\n"
   ]
  },
  {
   "cell_type": "markdown",
   "metadata": {},
   "source": [
    "O calculo de 'retirada' é correto."
   ]
  },
  {
   "cell_type": "markdown",
   "metadata": {},
   "source": [
    "### Análise das características não disponíveis no conjunto de teste"
   ]
  },
  {
   "cell_type": "code",
   "execution_count": 5,
   "metadata": {},
   "outputs": [
    {
     "name": "stdout",
     "output_type": "stream",
     "text": [
      "Características não disponíveis no conjunto de teste: ['final.output.concentrate_ag', 'final.output.concentrate_pb', 'final.output.concentrate_sol', 'final.output.concentrate_au', 'final.output.recovery', 'final.output.tail_ag', 'final.output.tail_pb', 'final.output.tail_sol', 'final.output.tail_au', 'primary_cleaner.output.concentrate_ag', 'primary_cleaner.output.concentrate_pb', 'primary_cleaner.output.concentrate_sol', 'primary_cleaner.output.concentrate_au', 'primary_cleaner.output.tail_ag', 'primary_cleaner.output.tail_pb', 'primary_cleaner.output.tail_sol', 'primary_cleaner.output.tail_au', 'rougher.calculation.sulfate_to_au_concentrate', 'rougher.calculation.floatbank10_sulfate_to_au_feed', 'rougher.calculation.floatbank11_sulfate_to_au_feed', 'rougher.calculation.au_pb_ratio', 'rougher.output.concentrate_ag', 'rougher.output.concentrate_pb', 'rougher.output.concentrate_sol', 'rougher.output.concentrate_au', 'rougher.output.recovery', 'rougher.output.tail_ag', 'rougher.output.tail_pb', 'rougher.output.tail_sol', 'rougher.output.tail_au', 'secondary_cleaner.output.tail_ag', 'secondary_cleaner.output.tail_pb', 'secondary_cleaner.output.tail_sol', 'secondary_cleaner.output.tail_au']\n"
     ]
    }
   ],
   "source": [
    "unavailable_features = [col for col in df_full.columns if col not in df_test.columns]\n",
    "print(\"Características não disponíveis no conjunto de teste:\", unavailable_features)"
   ]
  },
  {
   "cell_type": "markdown",
   "metadata": {},
   "source": [
    "<div class=\"alert alert-block alert-success\">\n",
    "<b> Comentário do revisor: </b> <a class=\"tocSkip\"></a>\n",
    "\n",
    "Correto. Parabéns pelo uso de list comprehension \n",
    "</div>\n"
   ]
  },
  {
   "cell_type": "markdown",
   "metadata": {},
   "source": [
    "### Pré-processamento dos dados"
   ]
  },
  {
   "cell_type": "code",
   "execution_count": 6,
   "metadata": {},
   "outputs": [
    {
     "name": "stdout",
     "output_type": "stream",
     "text": [
      "1.851295253940207\n"
     ]
    }
   ],
   "source": [
    "percentage_null = df_full.isnull().mean().mean()*100\n",
    "print(percentage_null)"
   ]
  },
  {
   "cell_type": "markdown",
   "metadata": {},
   "source": [
    "Os dados faltantantes representam quase 2% do dataframe, quantidade que eu acho aceitavel de ser retirada mas irei substituir estes pelos valores da média da coluna."
   ]
  },
  {
   "cell_type": "code",
   "execution_count": 7,
   "metadata": {},
   "outputs": [
    {
     "name": "stdout",
     "output_type": "stream",
     "text": [
      "Duplicatas 0\n",
      "Duplicatas 0\n",
      "Duplicatas 0\n"
     ]
    }
   ],
   "source": [
    "# FULL\n",
    "# Verifica duplicatas\n",
    "print(f'Duplicatas {df_full.duplicated().sum()}')\n",
    "# Preenchimento de valores ausentes com a média das colunas\n",
    "df_full = df_full.fillna(df_full.mean())\n",
    "df_full.isna().sum().max()\n",
    "assert df_full.isna().sum().max() == 0\n",
    "\n",
    "# TRAIN\n",
    "# Verifica duplicatas\n",
    "print(f'Duplicatas {df_train.duplicated().sum()}')\n",
    "# Preenchimento de valores ausentes com a média das colunas\n",
    "df_train = df_train.fillna(df_full.mean())\n",
    "df_train.isna().sum().max()\n",
    "assert df_full.isna().sum().max() == 0\n",
    "\n",
    "# TEST\n",
    "# Verifica duplicatas\n",
    "print(f'Duplicatas {df_test.duplicated().sum()}')\n",
    "# Preenchimento de valores ausentes com a média das colunas\n",
    "df_test = df_test.fillna(df_full.mean())\n",
    "df_test.isna().sum().max()\n",
    "assert df_full.isna().sum().max() == 0"
   ]
  },
  {
   "cell_type": "markdown",
   "metadata": {},
   "source": [
    "<s><div class=\"alert alert-block alert-danger\">\n",
    "<b> Comentário do revisor: </b> <a class=\"tocSkip\"></a>\n",
    "\n",
    "* Apenas o resultado da última linha foi exibidio. Vocẽ pode usar print() nas demais ou usar assert (ex: assert df_full.duplicated().sum() == 0).\n",
    "    \n",
    "* Por que vai imputar em vez de descartar? Você não justificou    \n",
    "</div>\n"
   ]
  },
  {
   "cell_type": "markdown",
   "metadata": {},
   "source": [
    "<div class=\"alert alert-block alert-success\">\n",
    "<b> Comentário do revisor: </b> <a class=\"tocSkip\"></a>\n",
    "\n",
    "Correto\n",
    "</div>\n"
   ]
  },
  {
   "cell_type": "markdown",
   "metadata": {},
   "source": [
    "## Análise dos dados\n"
   ]
  },
  {
   "cell_type": "markdown",
   "metadata": {},
   "source": [
    "### Observação da mudança da concentração de metais (Au, Ag, Pb) dependendo do estágio de purificação\n"
   ]
  },
  {
   "cell_type": "code",
   "execution_count": 8,
   "metadata": {},
   "outputs": [],
   "source": [
    "#ADD 1 e 3\n",
    "\n",
    "# Observação da mudança da concentração de metais (Au, Ag, Pb) dependendo do estágio de purificação\n",
    "\n",
    "first_purification_au = df_full[\"primary_cleaner.output.concentrate_au\"]\n",
    "final_purification_au = df_full[\"final.output.concentrate_au\"]\n",
    "\n",
    "first_purification_ag = df_full[\"primary_cleaner.output.concentrate_ag\"]\n",
    "final_purification_ag = df_full[\"final.output.concentrate_ag\"]\n",
    "\n",
    "first_purification_pb = df_full[\"primary_cleaner.output.concentrate_pb\"]\n",
    "final_purification_pb = df_full[\"final.output.concentrate_pb\"]"
   ]
  },
  {
   "cell_type": "code",
   "execution_count": 9,
   "metadata": {},
   "outputs": [],
   "source": [
    "purification_data = {\n",
    "    \"Au\": {\n",
    "        \"first\": first_purification_au,\n",
    "        \"final\": final_purification_au\n",
    "    },\n",
    "    \"Ag\": {\n",
    "        \"first\": first_purification_ag,\n",
    "        \"final\": final_purification_ag\n",
    "    },\n",
    "    \"Pb\": {\n",
    "        \"first\": first_purification_pb,\n",
    "        \"final\": final_purification_pb\n",
    "    }\n",
    "}"
   ]
  },
  {
   "cell_type": "markdown",
   "metadata": {},
   "source": [
    "<div class=\"alert alert-block alert-success\">\n",
    "<b> Comentário do revisor: </b> <a class=\"tocSkip\"></a>\n",
    "\n",
    "Correto\n",
    "</div>\n"
   ]
  },
  {
   "cell_type": "code",
   "execution_count": 10,
   "metadata": {},
   "outputs": [
    {
     "data": {
      "image/png": "[encoded data removed]",
      "text/plain": [
       "<Figure size 432x288 with 2 Axes>"
      ]
     },
     "metadata": {
      "needs_background": "light"
     },
     "output_type": "display_data"
    },
    {
     "data": {
      "image/png": "[encoded data removed]",
      "text/plain": [
       "<Figure size 432x288 with 2 Axes>"
      ]
     },
     "metadata": {
      "needs_background": "light"
     },
     "output_type": "display_data"
    },
    {
     "data": {
      "image/png": "[encoded data removed]",
      "text/plain": [
       "<Figure size 432x288 with 2 Axes>"
      ]
     },
     "metadata": {
      "needs_background": "light"
     },
     "output_type": "display_data"
    }
   ],
   "source": [
    "for element, data in purification_data.items():\n",
    "    fig, axs = plt.subplots(1, 2)\n",
    "    axs[0].hist(data[\"first\"], bins=50)\n",
    "    axs[1].hist(data[\"final\"], bins=50)\n",
    "    axs[0].set_title(f\"{element} 1st\")\n",
    "    axs[1].set_title(f\"{element} Final\")\n",
    "    axs[0].set_xlabel(\"Concentração\")\n",
    "    axs[1].set_xlabel(\"Concentração\")\n",
    "    axs[0].set_ylabel(\"Quantidade\")\n",
    "    axs[1].set_ylabel(\"Quantidade\")\n",
    "    plt.show()"
   ]
  },
  {
   "cell_type": "markdown",
   "metadata": {},
   "source": [
    "<div class=\"alert alert-block alert-success\">\n",
    "<b> Comentário do revisor: </b> <a class=\"tocSkip\"></a>\n",
    "\n",
    "Correto, mas sem conclusões\n",
    "</div>\n"
   ]
  },
  {
   "cell_type": "markdown",
   "metadata": {},
   "source": [
    "Fica claro que a concentração de Ag aumenta bastante no estagio final da purificação, enquanto a concentração de Ag diminui consideravelmente e a de Pb praticamenten não se altera."
   ]
  },
  {
   "cell_type": "markdown",
   "metadata": {},
   "source": [
    "### Comparação das distribuições de tamanho de partícula de minério nos conjuntos de treinamento e teste\n"
   ]
  },
  {
   "cell_type": "code",
   "execution_count": 11,
   "metadata": {},
   "outputs": [
    {
     "data": {
      "image/png": "[encoded data removed]",
      "text/plain": [
       "<Figure size 432x288 with 2 Axes>"
      ]
     },
     "metadata": {
      "needs_background": "light"
     },
     "output_type": "display_data"
    }
   ],
   "source": [
    "# AU\n",
    "fig, axs = plt.subplots(1, 2)\n",
    "axs[0].hist(df_train[\"rougher.input.feed_size\"], bins=50);\n",
    "axs[1].hist(df_test[\"rougher.input.feed_size\"], bins=50);"
   ]
  },
  {
   "cell_type": "markdown",
   "metadata": {},
   "source": [
    "As distribuições são bem parecidas."
   ]
  },
  {
   "cell_type": "markdown",
   "metadata": {},
   "source": [
    "<div class=\"alert alert-block alert-success\">\n",
    "<b> Comentário do revisor: </b> <a class=\"tocSkip\"></a>\n",
    "\n",
    "Correto mas sem conclusões\n",
    "</div>\n"
   ]
  },
  {
   "cell_type": "markdown",
   "metadata": {},
   "source": [
    "### Análise de anomalias nas concentrações totais de substâncias em diferentes estágios (minério bruto, concentrado bruto e concentrado final) e eliminação de anomalias\n"
   ]
  },
  {
   "cell_type": "code",
   "execution_count": 12,
   "metadata": {},
   "outputs": [
    {
     "data": {
      "text/plain": [
       "<AxesSubplot:>"
      ]
     },
     "execution_count": 12,
     "metadata": {},
     "output_type": "execute_result"
    },
    {
     "data": {
      "image/png": "[encoded data removed]",
      "text/plain": [
       "<Figure size 432x288 with 1 Axes>"
      ]
     },
     "metadata": {
      "needs_background": "light"
     },
     "output_type": "display_data"
    }
   ],
   "source": [
    "df_full.boxplot(\"rougher.input.feed_au\")"
   ]
  },
  {
   "cell_type": "markdown",
   "metadata": {},
   "source": [
    "<div class=\"alert alert-block alert-success\">\n",
    "<b> Comentário do revisor: </b> <a class=\"tocSkip\"></a>\n",
    "\n",
    "Correto mas sem conclusões\n",
    "</div>\n"
   ]
  },
  {
   "cell_type": "code",
   "execution_count": 13,
   "metadata": {},
   "outputs": [
    {
     "name": "stdout",
     "output_type": "stream",
     "text": [
      "Outlier_lower: 1.7406863955822036\n",
      "Outlier_upper: 14.411096603483672\n"
     ]
    }
   ],
   "source": [
    "# Cálculando os limites para valores atípicos para filtrar o dataframe posteriormente.\n",
    "# Limite inferior para valores atípicos\n",
    "Q1 = df_full[\"rougher.input.feed_au\"].quantile(.25)\n",
    "# Limite superior para valores atípicos\n",
    "Q3 = df_full[\"rougher.input.feed_au\"].quantile(.75)\n",
    "#Limites Outliers\n",
    "IQR = Q3 - Q1\n",
    "outlier_lower_bound1 = Q1 - 1.5*IQR\n",
    "outlier_upper_bound1 = Q3 + 1.5*IQR\n",
    "\n",
    "print(f\"Outlier_lower: {outlier_lower_bound1}\")\n",
    "print(f\"Outlier_upper: {outlier_upper_bound1}\")"
   ]
  },
  {
   "cell_type": "markdown",
   "metadata": {},
   "source": [
    "<div class=\"alert alert-block alert-success\">\n",
    "<b> Comentário do revisor: </b> <a class=\"tocSkip\"></a>\n",
    "\n",
    "Correto\n",
    "</div>\n"
   ]
  },
  {
   "cell_type": "code",
   "execution_count": 14,
   "metadata": {},
   "outputs": [
    {
     "data": {
      "text/plain": [
       "<AxesSubplot:>"
      ]
     },
     "execution_count": 14,
     "metadata": {},
     "output_type": "execute_result"
    },
    {
     "data": {
      "image/png": "[encoded data removed]",
      "text/plain": [
       "<Figure size 432x288 with 1 Axes>"
      ]
     },
     "metadata": {
      "needs_background": "light"
     },
     "output_type": "display_data"
    }
   ],
   "source": [
    "df_full.boxplot(\"rougher.output.concentrate_au\")"
   ]
  },
  {
   "cell_type": "markdown",
   "metadata": {},
   "source": [
    "<div class=\"alert alert-block alert-success\">\n",
    "<b> Comentário do revisor: </b> <a class=\"tocSkip\"></a>\n",
    "\n",
    "Correto\n",
    "</div>\n"
   ]
  },
  {
   "cell_type": "code",
   "execution_count": 15,
   "metadata": {},
   "outputs": [
    {
     "name": "stdout",
     "output_type": "stream",
     "text": [
      "Outlier_lower: 12.365810408739987\n",
      "Outlier_upper: 27.06908452685599\n"
     ]
    }
   ],
   "source": [
    "# Cálculando os limites para valores atípicos para filtrar o dataframe posteriormente.\n",
    "# Limite inferior para valores atípicos\n",
    "Q1 = df_full[\"rougher.output.concentrate_au\"].quantile(.25)\n",
    "Q1\n",
    "# Limite superior para valores atípicos\n",
    "Q3 = df_full[\"rougher.output.concentrate_au\"].quantile(.75)\n",
    "Q3\n",
    "#Limites Outliers\n",
    "IQR = Q3 - Q1\n",
    "outlier_lower_bound2 = Q1 - 1.5*IQR\n",
    "outlier_upper_bound2 = Q3 + 1.5*IQR\n",
    "\n",
    "print(f\"Outlier_lower: {outlier_lower_bound2}\")\n",
    "print(f\"Outlier_upper: {outlier_upper_bound2}\")"
   ]
  },
  {
   "cell_type": "markdown",
   "metadata": {},
   "source": [
    "<div class=\"alert alert-block alert-success\">\n",
    "<b> Comentário do revisor: </b> <a class=\"tocSkip\"></a>\n",
    "\n",
    "Correto\n",
    "</div>\n"
   ]
  },
  {
   "cell_type": "code",
   "execution_count": 16,
   "metadata": {},
   "outputs": [
    {
     "data": {
      "text/plain": [
       "<AxesSubplot:>"
      ]
     },
     "execution_count": 16,
     "metadata": {},
     "output_type": "execute_result"
    },
    {
     "data": {
      "image/png": "[encoded data removed]",
      "text/plain": [
       "<Figure size 432x288 with 1 Axes>"
      ]
     },
     "metadata": {
      "needs_background": "light"
     },
     "output_type": "display_data"
    }
   ],
   "source": [
    "df_full.boxplot(\"final.output.concentrate_au\")"
   ]
  },
  {
   "cell_type": "markdown",
   "metadata": {},
   "source": [
    "<div class=\"alert alert-block alert-success\">\n",
    "<b> Comentário do revisor: </b> <a class=\"tocSkip\"></a>\n",
    "\n",
    "Correto\n",
    "</div>\n"
   ]
  },
  {
   "cell_type": "code",
   "execution_count": 17,
   "metadata": {},
   "outputs": [
    {
     "name": "stdout",
     "output_type": "stream",
     "text": [
      "Outlier_lower: 36.670468995334105\n",
      "Outlier_upper: 51.76837774102255\n"
     ]
    }
   ],
   "source": [
    "# Cálculando os limites para valores atípicos para filtrar o dataframe posteriormente.\n",
    "# Limite inferior para valores atípicos\n",
    "Q1 = df_full[\"final.output.concentrate_au\"].quantile(.25)\n",
    "Q1\n",
    "# Limite superior para valores atípicos\n",
    "Q3 = df_full[\"final.output.concentrate_au\"].quantile(.75)\n",
    "Q3\n",
    "#Limites Outliers\n",
    "IQR = Q3 - Q1\n",
    "outlier_lower_bound3 = Q1 - 1.5*IQR\n",
    "outlier_upper_bound3 = Q3 + 1.5*IQR\n",
    "\n",
    "print(f\"Outlier_lower: {outlier_lower_bound3}\")\n",
    "print(f\"Outlier_upper: {outlier_upper_bound3}\")"
   ]
  },
  {
   "cell_type": "markdown",
   "metadata": {},
   "source": [
    "<div class=\"alert alert-block alert-success\">\n",
    "<b> Comentário do revisor: </b> <a class=\"tocSkip\"></a>\n",
    "\n",
    "Correto\n",
    "</div>\n"
   ]
  },
  {
   "cell_type": "code",
   "execution_count": 18,
   "metadata": {},
   "outputs": [],
   "source": [
    "df_full = df_full[(df_full[\"rougher.input.feed_au\"] > outlier_lower_bound1) &\n",
    "                 (df_full[\"rougher.input.feed_au\"] < outlier_upper_bound1)]"
   ]
  },
  {
   "cell_type": "code",
   "execution_count": 19,
   "metadata": {},
   "outputs": [],
   "source": [
    "df_full = df_full[(df_full[\"rougher.output.concentrate_au\"] > outlier_lower_bound2) &\n",
    "                 (df_full[\"rougher.output.concentrate_au\"] < outlier_upper_bound2)]"
   ]
  },
  {
   "cell_type": "code",
   "execution_count": 20,
   "metadata": {},
   "outputs": [],
   "source": [
    "df_full = df_full[(df_full[\"final.output.concentrate_au\"] > outlier_lower_bound3) &\n",
    "                 (df_full[\"final.output.concentrate_au\"] < outlier_upper_bound3)]"
   ]
  },
  {
   "cell_type": "markdown",
   "metadata": {},
   "source": [
    "<div class=\"alert alert-block alert-success\">\n",
    "<b> Comentário do revisor: </b> <a class=\"tocSkip\"></a>\n",
    "\n",
    "Correto. É importante tratar outliers\n",
    "</div>\n"
   ]
  },
  {
   "cell_type": "markdown",
   "metadata": {},
   "source": [
    "## Construção do modelo"
   ]
  },
  {
   "cell_type": "markdown",
   "metadata": {},
   "source": [
    "<s><div class=\"alert alert-block alert-danger\">\n",
    "<b> Comentário do revisor: </b> <a class=\"tocSkip\"></a>\n",
    "\n",
    "Sugiro você buscar apoio de um tutor para facilitar  seu processo, pois nossa interação textual é limitada. Vou dar alguams dicas:\n",
    "* Você precisa considerar no modelo apenas as colunas que estão tanto no treino e teste (ver seção 1.3  Análise das características não disponíveis no conjunto de teste)\n",
    "    \n",
    "</div>\n"
   ]
  },
  {
   "cell_type": "code",
   "execution_count": 21,
   "metadata": {},
   "outputs": [],
   "source": [
    "#TRAIN\n",
    "\n",
    "#Setando os dados a serem dropados para features_train\n",
    "targets_date = ['rougher.output.recovery', 'final.output.recovery', 'date']\n",
    "to_drop = unavailable_features + targets_date\n",
    "\n",
    "#Features\n",
    "features_train = df_train.drop(to_drop, axis=1).reset_index(drop=True)\n",
    "\n",
    "#Target\n",
    "target_train = df_train[['rougher.output.recovery', 'final.output.recovery']].reset_index(drop=True)"
   ]
  },
  {
   "cell_type": "code",
   "execution_count": 22,
   "metadata": {},
   "outputs": [],
   "source": [
    "# Separando o df_train em features e target\n",
    "features_train = df_train.drop(to_drop, axis=1).reset_index(drop=True)\n",
    "target_train = df_train[['rougher.output.recovery', 'final.output.recovery']].reset_index(drop=True)"
   ]
  },
  {
   "cell_type": "markdown",
   "metadata": {},
   "source": [
    "<s><div class=\"alert alert-block alert-warning\">\n",
    "<b> Comentário do revisor: </b> <a class=\"tocSkip\"></a>\n",
    "\n",
    "Talvez haja um erro porque você transformou featurs_train em vez de features_test\n",
    "</div>\n"
   ]
  },
  {
   "cell_type": "code",
   "execution_count": 23,
   "metadata": {},
   "outputs": [],
   "source": [
    "#TEST\n",
    "\n",
    "#Codigo para recuperar o target do df_test\n",
    "new_df_test = df_full[df_full[\"date\"].isin(df_test[\"date\"])]\n",
    "\n",
    "#Target\n",
    "target_test = new_df_test[['rougher.output.recovery', 'final.output.recovery']].reset_index(drop=True)\n",
    "\n",
    "#Features\n",
    "features_test = new_df_test.drop(to_drop, axis=1).reset_index(drop=True)"
   ]
  },
  {
   "cell_type": "markdown",
   "metadata": {},
   "source": [
    "<div class=\"alert alert-block alert-success\">\n",
    "<b> Comentário do revisor: </b> <a class=\"tocSkip\"></a>\n",
    "\n",
    "Correto\n",
    "</div>\n"
   ]
  },
  {
   "cell_type": "markdown",
   "metadata": {},
   "source": [
    "Não utilizando Scaler obtive um valor menor de SMAPE."
   ]
  },
  {
   "cell_type": "code",
   "execution_count": 24,
   "metadata": {},
   "outputs": [],
   "source": [
    "# from sklearn.preprocessing import MinMaxScaler\n",
    "\n",
    "# # recaling the variables (both)\n",
    "# features_test_columns = features_test.columns\n",
    "# features_train_columns = features_train.columns\n",
    "# scaler = MinMaxScaler()\n",
    "# features_test = scaler.fit_transform(features_test)\n",
    "# features_train = scaler.fit_transform(features_train)\n",
    "\n",
    "# # rename columns (since now its an np array)\n",
    "# features_test = pd.DataFrame(features_test)\n",
    "# features_test.columns = features_test_columns\n",
    "\n",
    "# features_train = pd.DataFrame(features_train)\n",
    "# features_train.columns = features_train_columns"
   ]
  },
  {
   "cell_type": "markdown",
   "metadata": {},
   "source": [
    "<div class=\"alert alert-block alert-danger\">\n",
    "<b> Comentário do revisor: </b> <a class=\"tocSkip\"></a>\n",
    "\n",
    "Você treina (fit) no treino e então você realiza transform no teste\n",
    "</div>\n"
   ]
  },
  {
   "cell_type": "markdown",
   "metadata": {},
   "source": [
    "<div class=\"alert alert-block alert-success\">\n",
    "<b> Comentário do revisor: </b> <a class=\"tocSkip\"></a>\n",
    "\n",
    "Correto\n",
    "</div>\n"
   ]
  },
  {
   "cell_type": "markdown",
   "metadata": {},
   "source": [
    "### Criação de uma função para calcular o valor final sMAPE\n"
   ]
  },
  {
   "attachments": {
    "image.png": {
     "image/png": "[encoded data removed]"
    }
   },
   "cell_type": "markdown",
   "metadata": {},
   "source": [
    "![image.png](attachment:image.png)"
   ]
  },
  {
   "attachments": {
    "image.png": {
     "image/png": "[encoded data removed]"
    }
   },
   "cell_type": "markdown",
   "metadata": {},
   "source": [
    "![image.png](attachment:image.png)"
   ]
  },
  {
   "cell_type": "code",
   "execution_count": 25,
   "metadata": {},
   "outputs": [],
   "source": [
    "def smape(y, y_pred):\n",
    "  # Calcula o numerador da fórmula do SMAPE\n",
    "    numerator = np.abs(y - y_pred)\n",
    "\n",
    "  # Calcula o denominador da fórmula do SMAPE\n",
    "    denominator = (np.abs(y) + np.abs(y_pred)) / 2\n",
    "\n",
    "  # Calcula o SMAPE\n",
    "    smape = (100/len(y)) * np.sum(numerator / denominator)\n",
    "\n",
    "    return smape\n",
    "\n",
    "def smape_final(rougher, rougher_pred, final, final_pred):\n",
    "    return (0.25 * smape(rougher, rougher_pred )) * (0.75 * smape(final, final_pred))"
   ]
  },
  {
   "cell_type": "markdown",
   "metadata": {},
   "source": [
    "<s><div class=\"alert alert-block alert-danger\">\n",
    "<b> Comentário do revisor: </b> <a class=\"tocSkip\"></a>\n",
    "\n",
    "Onde está a função sMAP final?\n",
    "    \n",
    "</div>\n"
   ]
  },
  {
   "cell_type": "markdown",
   "metadata": {},
   "source": [
    "<div class=\"alert alert-block alert-success\">\n",
    "<b> Comentário do revisor: </b> <a class=\"tocSkip\"></a>\n",
    "\n",
    "Correto\n",
    "</div>\n"
   ]
  },
  {
   "cell_type": "markdown",
   "metadata": {},
   "source": [
    "### Treinamento de modelos diferentes com validação cruzada\n"
   ]
  },
  {
   "cell_type": "code",
   "execution_count": 26,
   "metadata": {},
   "outputs": [
    {
     "name": "stdout",
     "output_type": "stream",
     "text": [
      "Fitting 5 folds for each of 13 candidates, totalling 65 fits\n"
     ]
    },
    {
     "data": {
      "text/plain": [
       "GridSearchCV(cv=KFold(n_splits=5, random_state=100, shuffle=True),\n",
       "             estimator=RFE(estimator=LinearRegression()),\n",
       "             param_grid=[{'n_features_to_select': [1, 2, 3, 4, 5, 6, 7, 8, 9,\n",
       "                                                   10, 11, 12, 13]}],\n",
       "             return_train_score=True, scoring='r2', verbose=1)"
      ]
     },
     "execution_count": 26,
     "metadata": {},
     "output_type": "execute_result"
    }
   ],
   "source": [
    "# step-1: create a cross-validation scheme\n",
    "folds = KFold(n_splits = 5, shuffle = True, random_state = 100)\n",
    "\n",
    "# step-2: specify range of hyperparameters to tune\n",
    "hyper_params = [{'n_features_to_select': list(range(1, 14))}]\n",
    "\n",
    "\n",
    "# step-3: perform grid search\n",
    "# 3.1 specify model\n",
    "lm = LinearRegression()\n",
    "lm.fit(features_train, target_train)\n",
    "rfe = RFE(lm)             \n",
    "\n",
    "# 3.2 call GridSearchCV()\n",
    "model_cv = GridSearchCV(estimator = rfe, \n",
    "                        param_grid = hyper_params, \n",
    "                        scoring= 'r2', \n",
    "                        cv = folds, \n",
    "                        verbose = 1,\n",
    "                        return_train_score=True)      \n",
    "\n",
    "# fit the model\n",
    "model_cv.fit(features_train, target_train) "
   ]
  },
  {
   "cell_type": "markdown",
   "metadata": {},
   "source": [
    "<div class=\"alert alert-block alert-success\">\n",
    "<b> Comentário do revisor: </b> <a class=\"tocSkip\"></a>\n",
    "\n",
    "Correto. Parabéns por ter usado GridSearchCV. \n",
    "</div>\n"
   ]
  },
  {
   "cell_type": "code",
   "execution_count": 27,
   "metadata": {},
   "outputs": [
    {
     "data": {
      "text/html": [
       "<div>\n",
       "<style scoped>\n",
       "    .dataframe tbody tr th:only-of-type {\n",
       "        vertical-align: middle;\n",
       "    }\n",
       "\n",
       "    .dataframe tbody tr th {\n",
       "        vertical-align: top;\n",
       "    }\n",
       "\n",
       "    .dataframe thead th {\n",
       "        text-align: right;\n",
       "    }\n",
       "</style>\n",
       "<table border=\"1\" class=\"dataframe\">\n",
       "  <thead>\n",
       "    <tr style=\"text-align: right;\">\n",
       "      <th></th>\n",
       "      <th>mean_fit_time</th>\n",
       "      <th>std_fit_time</th>\n",
       "      <th>mean_score_time</th>\n",
       "      <th>std_score_time</th>\n",
       "      <th>param_n_features_to_select</th>\n",
       "      <th>params</th>\n",
       "      <th>split0_test_score</th>\n",
       "      <th>split1_test_score</th>\n",
       "      <th>split2_test_score</th>\n",
       "      <th>split3_test_score</th>\n",
       "      <th>...</th>\n",
       "      <th>mean_test_score</th>\n",
       "      <th>std_test_score</th>\n",
       "      <th>rank_test_score</th>\n",
       "      <th>split0_train_score</th>\n",
       "      <th>split1_train_score</th>\n",
       "      <th>split2_train_score</th>\n",
       "      <th>split3_train_score</th>\n",
       "      <th>split4_train_score</th>\n",
       "      <th>mean_train_score</th>\n",
       "      <th>std_train_score</th>\n",
       "    </tr>\n",
       "  </thead>\n",
       "  <tbody>\n",
       "    <tr>\n",
       "      <th>0</th>\n",
       "      <td>2.116717</td>\n",
       "      <td>0.030437</td>\n",
       "      <td>0.019854</td>\n",
       "      <td>0.029234</td>\n",
       "      <td>1</td>\n",
       "      <td>{'n_features_to_select': 1}</td>\n",
       "      <td>0.047333</td>\n",
       "      <td>0.045036</td>\n",
       "      <td>0.047288</td>\n",
       "      <td>0.056259</td>\n",
       "      <td>...</td>\n",
       "      <td>0.047645</td>\n",
       "      <td>0.004684</td>\n",
       "      <td>13</td>\n",
       "      <td>0.048120</td>\n",
       "      <td>0.048570</td>\n",
       "      <td>0.047982</td>\n",
       "      <td>0.045874</td>\n",
       "      <td>0.049281</td>\n",
       "      <td>0.047965</td>\n",
       "      <td>0.001140</td>\n",
       "    </tr>\n",
       "    <tr>\n",
       "      <th>1</th>\n",
       "      <td>2.092842</td>\n",
       "      <td>0.006686</td>\n",
       "      <td>0.020653</td>\n",
       "      <td>0.030896</td>\n",
       "      <td>2</td>\n",
       "      <td>{'n_features_to_select': 2}</td>\n",
       "      <td>0.046166</td>\n",
       "      <td>0.046112</td>\n",
       "      <td>0.048975</td>\n",
       "      <td>0.057073</td>\n",
       "      <td>...</td>\n",
       "      <td>0.048323</td>\n",
       "      <td>0.004730</td>\n",
       "      <td>12</td>\n",
       "      <td>0.049363</td>\n",
       "      <td>0.049277</td>\n",
       "      <td>0.048543</td>\n",
       "      <td>0.046653</td>\n",
       "      <td>0.050018</td>\n",
       "      <td>0.048771</td>\n",
       "      <td>0.001158</td>\n",
       "    </tr>\n",
       "    <tr>\n",
       "      <th>2</th>\n",
       "      <td>2.112612</td>\n",
       "      <td>0.032504</td>\n",
       "      <td>0.005235</td>\n",
       "      <td>0.000050</td>\n",
       "      <td>3</td>\n",
       "      <td>{'n_features_to_select': 3}</td>\n",
       "      <td>0.054064</td>\n",
       "      <td>0.052346</td>\n",
       "      <td>0.056599</td>\n",
       "      <td>0.061763</td>\n",
       "      <td>...</td>\n",
       "      <td>0.054733</td>\n",
       "      <td>0.004317</td>\n",
       "      <td>11</td>\n",
       "      <td>0.055403</td>\n",
       "      <td>0.055749</td>\n",
       "      <td>0.054719</td>\n",
       "      <td>0.053523</td>\n",
       "      <td>0.056673</td>\n",
       "      <td>0.055213</td>\n",
       "      <td>0.001054</td>\n",
       "    </tr>\n",
       "    <tr>\n",
       "      <th>3</th>\n",
       "      <td>2.092894</td>\n",
       "      <td>0.009834</td>\n",
       "      <td>0.005217</td>\n",
       "      <td>0.000089</td>\n",
       "      <td>4</td>\n",
       "      <td>{'n_features_to_select': 4}</td>\n",
       "      <td>0.061810</td>\n",
       "      <td>0.059392</td>\n",
       "      <td>0.068657</td>\n",
       "      <td>0.066118</td>\n",
       "      <td>...</td>\n",
       "      <td>0.062315</td>\n",
       "      <td>0.004660</td>\n",
       "      <td>10</td>\n",
       "      <td>0.063079</td>\n",
       "      <td>0.063600</td>\n",
       "      <td>0.061329</td>\n",
       "      <td>0.061987</td>\n",
       "      <td>0.064613</td>\n",
       "      <td>0.062922</td>\n",
       "      <td>0.001162</td>\n",
       "    </tr>\n",
       "    <tr>\n",
       "      <th>4</th>\n",
       "      <td>2.051604</td>\n",
       "      <td>0.048965</td>\n",
       "      <td>0.034329</td>\n",
       "      <td>0.035665</td>\n",
       "      <td>5</td>\n",
       "      <td>{'n_features_to_select': 5}</td>\n",
       "      <td>0.061627</td>\n",
       "      <td>0.059699</td>\n",
       "      <td>0.068529</td>\n",
       "      <td>0.067611</td>\n",
       "      <td>...</td>\n",
       "      <td>0.062828</td>\n",
       "      <td>0.004571</td>\n",
       "      <td>9</td>\n",
       "      <td>0.064669</td>\n",
       "      <td>0.065068</td>\n",
       "      <td>0.061935</td>\n",
       "      <td>0.063169</td>\n",
       "      <td>0.065904</td>\n",
       "      <td>0.064149</td>\n",
       "      <td>0.001418</td>\n",
       "    </tr>\n",
       "    <tr>\n",
       "      <th>5</th>\n",
       "      <td>2.077542</td>\n",
       "      <td>0.034613</td>\n",
       "      <td>0.005124</td>\n",
       "      <td>0.000045</td>\n",
       "      <td>6</td>\n",
       "      <td>{'n_features_to_select': 6}</td>\n",
       "      <td>0.062630</td>\n",
       "      <td>0.060360</td>\n",
       "      <td>0.070278</td>\n",
       "      <td>0.067183</td>\n",
       "      <td>...</td>\n",
       "      <td>0.063831</td>\n",
       "      <td>0.004303</td>\n",
       "      <td>8</td>\n",
       "      <td>0.066056</td>\n",
       "      <td>0.066512</td>\n",
       "      <td>0.062567</td>\n",
       "      <td>0.064882</td>\n",
       "      <td>0.067038</td>\n",
       "      <td>0.065411</td>\n",
       "      <td>0.001590</td>\n",
       "    </tr>\n",
       "    <tr>\n",
       "      <th>6</th>\n",
       "      <td>2.154363</td>\n",
       "      <td>0.169050</td>\n",
       "      <td>0.019729</td>\n",
       "      <td>0.029186</td>\n",
       "      <td>7</td>\n",
       "      <td>{'n_features_to_select': 7}</td>\n",
       "      <td>0.063035</td>\n",
       "      <td>0.060692</td>\n",
       "      <td>0.072493</td>\n",
       "      <td>0.067422</td>\n",
       "      <td>...</td>\n",
       "      <td>0.064418</td>\n",
       "      <td>0.005013</td>\n",
       "      <td>7</td>\n",
       "      <td>0.066094</td>\n",
       "      <td>0.066623</td>\n",
       "      <td>0.063599</td>\n",
       "      <td>0.065022</td>\n",
       "      <td>0.067293</td>\n",
       "      <td>0.065726</td>\n",
       "      <td>0.001297</td>\n",
       "    </tr>\n",
       "    <tr>\n",
       "      <th>7</th>\n",
       "      <td>2.095328</td>\n",
       "      <td>0.005456</td>\n",
       "      <td>0.019825</td>\n",
       "      <td>0.028980</td>\n",
       "      <td>8</td>\n",
       "      <td>{'n_features_to_select': 8}</td>\n",
       "      <td>0.079916</td>\n",
       "      <td>0.082282</td>\n",
       "      <td>0.086009</td>\n",
       "      <td>0.086796</td>\n",
       "      <td>...</td>\n",
       "      <td>0.080912</td>\n",
       "      <td>0.006204</td>\n",
       "      <td>6</td>\n",
       "      <td>0.082774</td>\n",
       "      <td>0.082175</td>\n",
       "      <td>0.081075</td>\n",
       "      <td>0.081117</td>\n",
       "      <td>0.085467</td>\n",
       "      <td>0.082522</td>\n",
       "      <td>0.001608</td>\n",
       "    </tr>\n",
       "    <tr>\n",
       "      <th>8</th>\n",
       "      <td>2.039510</td>\n",
       "      <td>0.038513</td>\n",
       "      <td>0.036651</td>\n",
       "      <td>0.038552</td>\n",
       "      <td>9</td>\n",
       "      <td>{'n_features_to_select': 9}</td>\n",
       "      <td>0.109300</td>\n",
       "      <td>0.101271</td>\n",
       "      <td>0.113455</td>\n",
       "      <td>0.111175</td>\n",
       "      <td>...</td>\n",
       "      <td>0.105310</td>\n",
       "      <td>0.008099</td>\n",
       "      <td>5</td>\n",
       "      <td>0.105747</td>\n",
       "      <td>0.107791</td>\n",
       "      <td>0.104757</td>\n",
       "      <td>0.105478</td>\n",
       "      <td>0.110474</td>\n",
       "      <td>0.106849</td>\n",
       "      <td>0.002074</td>\n",
       "    </tr>\n",
       "    <tr>\n",
       "      <th>9</th>\n",
       "      <td>2.156682</td>\n",
       "      <td>0.134248</td>\n",
       "      <td>0.019723</td>\n",
       "      <td>0.029130</td>\n",
       "      <td>10</td>\n",
       "      <td>{'n_features_to_select': 10}</td>\n",
       "      <td>0.114088</td>\n",
       "      <td>0.107979</td>\n",
       "      <td>0.120657</td>\n",
       "      <td>0.114454</td>\n",
       "      <td>...</td>\n",
       "      <td>0.110331</td>\n",
       "      <td>0.008884</td>\n",
       "      <td>4</td>\n",
       "      <td>0.111014</td>\n",
       "      <td>0.112557</td>\n",
       "      <td>0.109417</td>\n",
       "      <td>0.111066</td>\n",
       "      <td>0.115584</td>\n",
       "      <td>0.111928</td>\n",
       "      <td>0.002080</td>\n",
       "    </tr>\n",
       "    <tr>\n",
       "      <th>10</th>\n",
       "      <td>2.138552</td>\n",
       "      <td>0.050433</td>\n",
       "      <td>0.019837</td>\n",
       "      <td>0.029350</td>\n",
       "      <td>11</td>\n",
       "      <td>{'n_features_to_select': 11}</td>\n",
       "      <td>0.117634</td>\n",
       "      <td>0.114908</td>\n",
       "      <td>0.123305</td>\n",
       "      <td>0.119998</td>\n",
       "      <td>...</td>\n",
       "      <td>0.114607</td>\n",
       "      <td>0.009136</td>\n",
       "      <td>3</td>\n",
       "      <td>0.115949</td>\n",
       "      <td>0.116625</td>\n",
       "      <td>0.115453</td>\n",
       "      <td>0.116477</td>\n",
       "      <td>0.120611</td>\n",
       "      <td>0.117023</td>\n",
       "      <td>0.001841</td>\n",
       "    </tr>\n",
       "    <tr>\n",
       "      <th>11</th>\n",
       "      <td>2.005739</td>\n",
       "      <td>0.008470</td>\n",
       "      <td>0.035249</td>\n",
       "      <td>0.037026</td>\n",
       "      <td>12</td>\n",
       "      <td>{'n_features_to_select': 12}</td>\n",
       "      <td>0.120742</td>\n",
       "      <td>0.118633</td>\n",
       "      <td>0.125408</td>\n",
       "      <td>0.120154</td>\n",
       "      <td>...</td>\n",
       "      <td>0.116962</td>\n",
       "      <td>0.008839</td>\n",
       "      <td>2</td>\n",
       "      <td>0.118368</td>\n",
       "      <td>0.118894</td>\n",
       "      <td>0.117176</td>\n",
       "      <td>0.118583</td>\n",
       "      <td>0.122302</td>\n",
       "      <td>0.119065</td>\n",
       "      <td>0.001720</td>\n",
       "    </tr>\n",
       "    <tr>\n",
       "      <th>12</th>\n",
       "      <td>2.068303</td>\n",
       "      <td>0.035467</td>\n",
       "      <td>0.005317</td>\n",
       "      <td>0.000126</td>\n",
       "      <td>13</td>\n",
       "      <td>{'n_features_to_select': 13}</td>\n",
       "      <td>0.123987</td>\n",
       "      <td>0.124862</td>\n",
       "      <td>0.129641</td>\n",
       "      <td>0.120893</td>\n",
       "      <td>...</td>\n",
       "      <td>0.120373</td>\n",
       "      <td>0.009376</td>\n",
       "      <td>1</td>\n",
       "      <td>0.121725</td>\n",
       "      <td>0.126690</td>\n",
       "      <td>0.125416</td>\n",
       "      <td>0.122530</td>\n",
       "      <td>0.124312</td>\n",
       "      <td>0.124134</td>\n",
       "      <td>0.001821</td>\n",
       "    </tr>\n",
       "  </tbody>\n",
       "</table>\n",
       "<p>13 rows × 21 columns</p>\n",
       "</div>"
      ],
      "text/plain": [
       "    mean_fit_time  std_fit_time  mean_score_time  std_score_time  \\\n",
       "0        2.116717      0.030437         0.019854        0.029234   \n",
       "1        2.092842      0.006686         0.020653        0.030896   \n",
       "2        2.112612      0.032504         0.005235        0.000050   \n",
       "3        2.092894      0.009834         0.005217        0.000089   \n",
       "4        2.051604      0.048965         0.034329        0.035665   \n",
       "5        2.077542      0.034613         0.005124        0.000045   \n",
       "6        2.154363      0.169050         0.019729        0.029186   \n",
       "7        2.095328      0.005456         0.019825        0.028980   \n",
       "8        2.039510      0.038513         0.036651        0.038552   \n",
       "9        2.156682      0.134248         0.019723        0.029130   \n",
       "10       2.138552      0.050433         0.019837        0.029350   \n",
       "11       2.005739      0.008470         0.035249        0.037026   \n",
       "12       2.068303      0.035467         0.005317        0.000126   \n",
       "\n",
       "   param_n_features_to_select                        params  \\\n",
       "0                           1   {'n_features_to_select': 1}   \n",
       "1                           2   {'n_features_to_select': 2}   \n",
       "2                           3   {'n_features_to_select': 3}   \n",
       "3                           4   {'n_features_to_select': 4}   \n",
       "4                           5   {'n_features_to_select': 5}   \n",
       "5                           6   {'n_features_to_select': 6}   \n",
       "6                           7   {'n_features_to_select': 7}   \n",
       "7                           8   {'n_features_to_select': 8}   \n",
       "8                           9   {'n_features_to_select': 9}   \n",
       "9                          10  {'n_features_to_select': 10}   \n",
       "10                         11  {'n_features_to_select': 11}   \n",
       "11                         12  {'n_features_to_select': 12}   \n",
       "12                         13  {'n_features_to_select': 13}   \n",
       "\n",
       "    split0_test_score  split1_test_score  split2_test_score  \\\n",
       "0            0.047333           0.045036           0.047288   \n",
       "1            0.046166           0.046112           0.048975   \n",
       "2            0.054064           0.052346           0.056599   \n",
       "3            0.061810           0.059392           0.068657   \n",
       "4            0.061627           0.059699           0.068529   \n",
       "5            0.062630           0.060360           0.070278   \n",
       "6            0.063035           0.060692           0.072493   \n",
       "7            0.079916           0.082282           0.086009   \n",
       "8            0.109300           0.101271           0.113455   \n",
       "9            0.114088           0.107979           0.120657   \n",
       "10           0.117634           0.114908           0.123305   \n",
       "11           0.120742           0.118633           0.125408   \n",
       "12           0.123987           0.124862           0.129641   \n",
       "\n",
       "    split3_test_score  ...  mean_test_score  std_test_score  rank_test_score  \\\n",
       "0            0.056259  ...         0.047645        0.004684               13   \n",
       "1            0.057073  ...         0.048323        0.004730               12   \n",
       "2            0.061763  ...         0.054733        0.004317               11   \n",
       "3            0.066118  ...         0.062315        0.004660               10   \n",
       "4            0.067611  ...         0.062828        0.004571                9   \n",
       "5            0.067183  ...         0.063831        0.004303                8   \n",
       "6            0.067422  ...         0.064418        0.005013                7   \n",
       "7            0.086796  ...         0.080912        0.006204                6   \n",
       "8            0.111175  ...         0.105310        0.008099                5   \n",
       "9            0.114454  ...         0.110331        0.008884                4   \n",
       "10           0.119998  ...         0.114607        0.009136                3   \n",
       "11           0.120154  ...         0.116962        0.008839                2   \n",
       "12           0.120893  ...         0.120373        0.009376                1   \n",
       "\n",
       "    split0_train_score  split1_train_score  split2_train_score  \\\n",
       "0             0.048120            0.048570            0.047982   \n",
       "1             0.049363            0.049277            0.048543   \n",
       "2             0.055403            0.055749            0.054719   \n",
       "3             0.063079            0.063600            0.061329   \n",
       "4             0.064669            0.065068            0.061935   \n",
       "5             0.066056            0.066512            0.062567   \n",
       "6             0.066094            0.066623            0.063599   \n",
       "7             0.082774            0.082175            0.081075   \n",
       "8             0.105747            0.107791            0.104757   \n",
       "9             0.111014            0.112557            0.109417   \n",
       "10            0.115949            0.116625            0.115453   \n",
       "11            0.118368            0.118894            0.117176   \n",
       "12            0.121725            0.126690            0.125416   \n",
       "\n",
       "    split3_train_score  split4_train_score  mean_train_score  std_train_score  \n",
       "0             0.045874            0.049281          0.047965         0.001140  \n",
       "1             0.046653            0.050018          0.048771         0.001158  \n",
       "2             0.053523            0.056673          0.055213         0.001054  \n",
       "3             0.061987            0.064613          0.062922         0.001162  \n",
       "4             0.063169            0.065904          0.064149         0.001418  \n",
       "5             0.064882            0.067038          0.065411         0.001590  \n",
       "6             0.065022            0.067293          0.065726         0.001297  \n",
       "7             0.081117            0.085467          0.082522         0.001608  \n",
       "8             0.105478            0.110474          0.106849         0.002074  \n",
       "9             0.111066            0.115584          0.111928         0.002080  \n",
       "10            0.116477            0.120611          0.117023         0.001841  \n",
       "11            0.118583            0.122302          0.119065         0.001720  \n",
       "12            0.122530            0.124312          0.124134         0.001821  \n",
       "\n",
       "[13 rows x 21 columns]"
      ]
     },
     "execution_count": 27,
     "metadata": {},
     "output_type": "execute_result"
    }
   ],
   "source": [
    "# cv results\n",
    "cv_results = pd.DataFrame(model_cv.cv_results_)\n",
    "cv_results"
   ]
  },
  {
   "cell_type": "markdown",
   "metadata": {},
   "source": [
    "<div class=\"alert alert-block alert-success\">\n",
    "<b> Comentário do revisor: </b> <a class=\"tocSkip\"></a>\n",
    "\n",
    "Correto\n",
    "</div>\n"
   ]
  },
  {
   "cell_type": "code",
   "execution_count": 28,
   "metadata": {},
   "outputs": [
    {
     "data": {
      "text/plain": [
       "<matplotlib.legend.Legend at 0x7fe091a8ed00>"
      ]
     },
     "execution_count": 28,
     "metadata": {},
     "output_type": "execute_result"
    },
    {
     "data": {
      "image/png": "[encoded data removed]",
      "text/plain": [
       "<Figure size 1152x432 with 1 Axes>"
      ]
     },
     "metadata": {
      "needs_background": "light"
     },
     "output_type": "display_data"
    }
   ],
   "source": [
    "# plotting cv results\n",
    "plt.figure(figsize=(16,6))\n",
    "\n",
    "plt.plot(cv_results[\"param_n_features_to_select\"], cv_results[\"mean_test_score\"])\n",
    "plt.plot(cv_results[\"param_n_features_to_select\"], cv_results[\"mean_train_score\"])\n",
    "plt.xlabel('number of features')\n",
    "plt.ylabel('r-squared')\n",
    "plt.title(\"Optimal Number of Features\")\n",
    "plt.legend(['test score', 'train score'], loc='upper left')"
   ]
  },
  {
   "cell_type": "markdown",
   "metadata": {},
   "source": [
    "<div class=\"alert alert-block alert-success\">\n",
    "<b> Comentário do revisor: </b> <a class=\"tocSkip\"></a>\n",
    "\n",
    "Correto\n",
    "</div>\n"
   ]
  },
  {
   "cell_type": "markdown",
   "metadata": {},
   "source": [
    "Maior mean_train_score: 0.163627"
   ]
  },
  {
   "cell_type": "markdown",
   "metadata": {},
   "source": [
    "<div class=\"alert alert-block alert-success\">\n",
    "<b> Comentário do revisor: </b> <a class=\"tocSkip\"></a>\n",
    "\n",
    "Correto\n",
    "</div>\n"
   ]
  },
  {
   "cell_type": "markdown",
   "metadata": {},
   "source": [
    "Diminui o n_features pelo tempo de processamento"
   ]
  },
  {
   "cell_type": "code",
   "execution_count": 29,
   "metadata": {},
   "outputs": [
    {
     "name": "stdout",
     "output_type": "stream",
     "text": [
      "Fitting 5 folds for each of 4 candidates, totalling 20 fits\n"
     ]
    },
    {
     "data": {
      "text/plain": [
       "GridSearchCV(cv=KFold(n_splits=5, random_state=100, shuffle=True),\n",
       "             estimator=RFE(estimator=DecisionTreeRegressor()),\n",
       "             param_grid=[{'n_features_to_select': [1, 2, 3, 4]}],\n",
       "             return_train_score=True, scoring='r2', verbose=1)"
      ]
     },
     "execution_count": 29,
     "metadata": {},
     "output_type": "execute_result"
    }
   ],
   "source": [
    "from sklearn.tree import DecisionTreeRegressor\n",
    "\n",
    "# step-1: create a cross-validation scheme\n",
    "folds = KFold(n_splits = 5, shuffle = True, random_state = 100)\n",
    "\n",
    "# step-2: specify range of hyperparameters to tune\n",
    "hyper_params = [{'n_features_to_select': list(range(1, 5))}]\n",
    "\n",
    "\n",
    "# step-3: perform grid search\n",
    "# 3.1 specify model\n",
    "lm = DecisionTreeRegressor()\n",
    "lm.fit(features_train, target_train)\n",
    "rfe = RFE(lm)             \n",
    "\n",
    "# 3.2 call GridSearchCV()\n",
    "model_cv = GridSearchCV(estimator = rfe, \n",
    "                        param_grid = hyper_params, \n",
    "                        scoring= 'r2', \n",
    "                        cv = folds, \n",
    "                        verbose = 1,\n",
    "                        return_train_score=True)      \n",
    "\n",
    "# fit the model\n",
    "model_cv.fit(features_train, target_train) "
   ]
  },
  {
   "cell_type": "markdown",
   "metadata": {},
   "source": [
    "<div class=\"alert alert-block alert-success\">\n",
    "<b> Comentário do revisor: </b> <a class=\"tocSkip\"></a>\n",
    "\n",
    "Correto\n",
    "</div>\n"
   ]
  },
  {
   "cell_type": "code",
   "execution_count": 30,
   "metadata": {},
   "outputs": [
    {
     "data": {
      "text/html": [
       "<div>\n",
       "<style scoped>\n",
       "    .dataframe tbody tr th:only-of-type {\n",
       "        vertical-align: middle;\n",
       "    }\n",
       "\n",
       "    .dataframe tbody tr th {\n",
       "        vertical-align: top;\n",
       "    }\n",
       "\n",
       "    .dataframe thead th {\n",
       "        text-align: right;\n",
       "    }\n",
       "</style>\n",
       "<table border=\"1\" class=\"dataframe\">\n",
       "  <thead>\n",
       "    <tr style=\"text-align: right;\">\n",
       "      <th></th>\n",
       "      <th>mean_fit_time</th>\n",
       "      <th>std_fit_time</th>\n",
       "      <th>mean_score_time</th>\n",
       "      <th>std_score_time</th>\n",
       "      <th>param_n_features_to_select</th>\n",
       "      <th>params</th>\n",
       "      <th>split0_test_score</th>\n",
       "      <th>split1_test_score</th>\n",
       "      <th>split2_test_score</th>\n",
       "      <th>split3_test_score</th>\n",
       "      <th>...</th>\n",
       "      <th>mean_test_score</th>\n",
       "      <th>std_test_score</th>\n",
       "      <th>rank_test_score</th>\n",
       "      <th>split0_train_score</th>\n",
       "      <th>split1_train_score</th>\n",
       "      <th>split2_train_score</th>\n",
       "      <th>split3_train_score</th>\n",
       "      <th>split4_train_score</th>\n",
       "      <th>mean_train_score</th>\n",
       "      <th>std_train_score</th>\n",
       "    </tr>\n",
       "  </thead>\n",
       "  <tbody>\n",
       "    <tr>\n",
       "      <th>0</th>\n",
       "      <td>44.994288</td>\n",
       "      <td>0.883324</td>\n",
       "      <td>0.005041</td>\n",
       "      <td>0.000329</td>\n",
       "      <td>1</td>\n",
       "      <td>{'n_features_to_select': 1}</td>\n",
       "      <td>-0.683520</td>\n",
       "      <td>-0.732904</td>\n",
       "      <td>-0.850464</td>\n",
       "      <td>-0.617325</td>\n",
       "      <td>...</td>\n",
       "      <td>-0.703501</td>\n",
       "      <td>0.083926</td>\n",
       "      <td>4</td>\n",
       "      <td>0.994402</td>\n",
       "      <td>0.930875</td>\n",
       "      <td>0.931004</td>\n",
       "      <td>0.994312</td>\n",
       "      <td>0.995815</td>\n",
       "      <td>0.969282</td>\n",
       "      <td>0.031311</td>\n",
       "    </tr>\n",
       "    <tr>\n",
       "      <th>1</th>\n",
       "      <td>45.051331</td>\n",
       "      <td>0.902134</td>\n",
       "      <td>0.004919</td>\n",
       "      <td>0.000057</td>\n",
       "      <td>2</td>\n",
       "      <td>{'n_features_to_select': 2}</td>\n",
       "      <td>-0.313129</td>\n",
       "      <td>-0.331953</td>\n",
       "      <td>-0.451114</td>\n",
       "      <td>-0.462915</td>\n",
       "      <td>...</td>\n",
       "      <td>-0.366069</td>\n",
       "      <td>0.076905</td>\n",
       "      <td>3</td>\n",
       "      <td>0.997626</td>\n",
       "      <td>0.997394</td>\n",
       "      <td>0.997404</td>\n",
       "      <td>0.997616</td>\n",
       "      <td>0.997656</td>\n",
       "      <td>0.997539</td>\n",
       "      <td>0.000115</td>\n",
       "    </tr>\n",
       "    <tr>\n",
       "      <th>2</th>\n",
       "      <td>44.851118</td>\n",
       "      <td>0.960482</td>\n",
       "      <td>0.005040</td>\n",
       "      <td>0.000207</td>\n",
       "      <td>3</td>\n",
       "      <td>{'n_features_to_select': 3}</td>\n",
       "      <td>-0.196173</td>\n",
       "      <td>-0.134962</td>\n",
       "      <td>-0.306326</td>\n",
       "      <td>-0.192479</td>\n",
       "      <td>...</td>\n",
       "      <td>-0.218519</td>\n",
       "      <td>0.059694</td>\n",
       "      <td>2</td>\n",
       "      <td>0.999407</td>\n",
       "      <td>0.998243</td>\n",
       "      <td>0.997967</td>\n",
       "      <td>0.997960</td>\n",
       "      <td>0.997943</td>\n",
       "      <td>0.998304</td>\n",
       "      <td>0.000563</td>\n",
       "    </tr>\n",
       "    <tr>\n",
       "      <th>3</th>\n",
       "      <td>44.658270</td>\n",
       "      <td>1.097291</td>\n",
       "      <td>0.004918</td>\n",
       "      <td>0.000156</td>\n",
       "      <td>4</td>\n",
       "      <td>{'n_features_to_select': 4}</td>\n",
       "      <td>-0.081860</td>\n",
       "      <td>-0.114544</td>\n",
       "      <td>-0.119057</td>\n",
       "      <td>-0.037896</td>\n",
       "      <td>...</td>\n",
       "      <td>-0.096270</td>\n",
       "      <td>0.033090</td>\n",
       "      <td>1</td>\n",
       "      <td>0.999699</td>\n",
       "      <td>1.000000</td>\n",
       "      <td>1.000000</td>\n",
       "      <td>1.000000</td>\n",
       "      <td>1.000000</td>\n",
       "      <td>0.999940</td>\n",
       "      <td>0.000121</td>\n",
       "    </tr>\n",
       "  </tbody>\n",
       "</table>\n",
       "<p>4 rows × 21 columns</p>\n",
       "</div>"
      ],
      "text/plain": [
       "   mean_fit_time  std_fit_time  mean_score_time  std_score_time  \\\n",
       "0      44.994288      0.883324         0.005041        0.000329   \n",
       "1      45.051331      0.902134         0.004919        0.000057   \n",
       "2      44.851118      0.960482         0.005040        0.000207   \n",
       "3      44.658270      1.097291         0.004918        0.000156   \n",
       "\n",
       "  param_n_features_to_select                       params  split0_test_score  \\\n",
       "0                          1  {'n_features_to_select': 1}          -0.683520   \n",
       "1                          2  {'n_features_to_select': 2}          -0.313129   \n",
       "2                          3  {'n_features_to_select': 3}          -0.196173   \n",
       "3                          4  {'n_features_to_select': 4}          -0.081860   \n",
       "\n",
       "   split1_test_score  split2_test_score  split3_test_score  ...  \\\n",
       "0          -0.732904          -0.850464          -0.617325  ...   \n",
       "1          -0.331953          -0.451114          -0.462915  ...   \n",
       "2          -0.134962          -0.306326          -0.192479  ...   \n",
       "3          -0.114544          -0.119057          -0.037896  ...   \n",
       "\n",
       "   mean_test_score  std_test_score  rank_test_score  split0_train_score  \\\n",
       "0        -0.703501        0.083926                4            0.994402   \n",
       "1        -0.366069        0.076905                3            0.997626   \n",
       "2        -0.218519        0.059694                2            0.999407   \n",
       "3        -0.096270        0.033090                1            0.999699   \n",
       "\n",
       "   split1_train_score  split2_train_score  split3_train_score  \\\n",
       "0            0.930875            0.931004            0.994312   \n",
       "1            0.997394            0.997404            0.997616   \n",
       "2            0.998243            0.997967            0.997960   \n",
       "3            1.000000            1.000000            1.000000   \n",
       "\n",
       "   split4_train_score  mean_train_score  std_train_score  \n",
       "0            0.995815          0.969282         0.031311  \n",
       "1            0.997656          0.997539         0.000115  \n",
       "2            0.997943          0.998304         0.000563  \n",
       "3            1.000000          0.999940         0.000121  \n",
       "\n",
       "[4 rows x 21 columns]"
      ]
     },
     "execution_count": 30,
     "metadata": {},
     "output_type": "execute_result"
    }
   ],
   "source": [
    "# cv results\n",
    "cv_results = pd.DataFrame(model_cv.cv_results_)\n",
    "cv_results"
   ]
  },
  {
   "cell_type": "markdown",
   "metadata": {},
   "source": [
    "<div class=\"alert alert-block alert-success\">\n",
    "<b> Comentário do revisor: </b> <a class=\"tocSkip\"></a>\n",
    "\n",
    "Correto\n",
    "</div>\n"
   ]
  },
  {
   "cell_type": "code",
   "execution_count": 31,
   "metadata": {},
   "outputs": [
    {
     "data": {
      "text/plain": [
       "<matplotlib.legend.Legend at 0x7fe0919ff760>"
      ]
     },
     "execution_count": 31,
     "metadata": {},
     "output_type": "execute_result"
    },
    {
     "data": {
      "image/png": "[encoded data removed]",
      "text/plain": [
       "<Figure size 1152x432 with 1 Axes>"
      ]
     },
     "metadata": {
      "needs_background": "light"
     },
     "output_type": "display_data"
    }
   ],
   "source": [
    "# plotting cv results\n",
    "plt.figure(figsize=(16,6))\n",
    "\n",
    "plt.plot(cv_results[\"param_n_features_to_select\"], cv_results[\"mean_test_score\"])\n",
    "plt.plot(cv_results[\"param_n_features_to_select\"], cv_results[\"mean_train_score\"])\n",
    "plt.xlabel('number of features')\n",
    "plt.ylabel('r-squared')\n",
    "plt.title(\"Optimal Number of Features\")\n",
    "plt.legend(['test score', 'train score'], loc='upper left')"
   ]
  },
  {
   "cell_type": "markdown",
   "metadata": {},
   "source": [
    "<s><div class=\"alert alert-block alert-danger\">\n",
    "<b> Comentário do revisor: </b> <a class=\"tocSkip\"></a>\n",
    "\n",
    "O modelo retornou R2 negativo o que significa que este modelo é pior do que prever a média. Há erro na montagem da base.\n",
    "</div>\n"
   ]
  },
  {
   "cell_type": "markdown",
   "metadata": {},
   "source": [
    "<div class=\"alert alert-block alert-warning\">\n",
    "<b> Comentário do revisor: </b> <a class=\"tocSkip\"></a>\n",
    "\n",
    "Houve overfitting no modelo. você deveria empregar regularização\n",
    "</div>\n"
   ]
  },
  {
   "cell_type": "markdown",
   "metadata": {},
   "source": [
    "Utilizarei o modelo de Regressão Linear pela melhor performance."
   ]
  },
  {
   "cell_type": "markdown",
   "metadata": {},
   "source": [
    "### Seleção do melhor modelo e teste usando o conjunto de teste\n"
   ]
  },
  {
   "cell_type": "markdown",
   "metadata": {},
   "source": [
    "<s><div class=\"alert alert-block alert-danger\">\n",
    "<b> Comentário do revisor: </b> <a class=\"tocSkip\"></a>\n",
    "\n",
    "No passso anterior, você ajustou modelos (ex: Regressão Linear e Random Forest). O melhor dentre os dois deve ser usado para testar no conjunto de teste. Veja que você deve manter as mesmas colunas usadas no treino e fazer a imputação usando os mesmos valores usado no treino\n",
    "</div>\n"
   ]
  },
  {
   "cell_type": "code",
   "execution_count": 32,
   "metadata": {},
   "outputs": [],
   "source": [
    "# final model\n",
    "n_features_optimal = 13\n",
    "\n",
    "lm = LinearRegression()\n",
    "lm.fit(features_train, target_train)\n",
    "\n",
    "rfe = RFE(lm, n_features_to_select=n_features_optimal)             \n",
    "rfe = rfe.fit(features_train, target_train)"
   ]
  },
  {
   "cell_type": "markdown",
   "metadata": {},
   "source": [
    "<div class=\"alert alert-block alert-success\">\n",
    "<b> Comentário do revisor: </b> <a class=\"tocSkip\"></a>\n",
    "\n",
    "Correto\n",
    "</div>\n"
   ]
  },
  {
   "cell_type": "code",
   "execution_count": 33,
   "metadata": {},
   "outputs": [],
   "source": [
    "final_pred = lm.predict(features_test)"
   ]
  },
  {
   "cell_type": "markdown",
   "metadata": {},
   "source": [
    "<div class=\"alert alert-block alert-success\">\n",
    "<b> Comentário do revisor: </b> <a class=\"tocSkip\"></a>\n",
    "\n",
    "Correto\n",
    "</div>\n"
   ]
  },
  {
   "cell_type": "code",
   "execution_count": 34,
   "metadata": {},
   "outputs": [],
   "source": [
    "rougher = target_test[\"rougher.output.recovery\"].reset_index(drop=True)\n",
    "final = target_test[\"final.output.recovery\"].reset_index(drop=True)"
   ]
  },
  {
   "cell_type": "markdown",
   "metadata": {},
   "source": [
    "<div class=\"alert alert-block alert-success\">\n",
    "<b> Comentário do revisor: </b> <a class=\"tocSkip\"></a>\n",
    "\n",
    "Correto\n",
    "</div>\n"
   ]
  },
  {
   "cell_type": "code",
   "execution_count": 35,
   "metadata": {},
   "outputs": [],
   "source": [
    "predictions = pd.DataFrame(final_pred, columns=['rougher_pred', 'final_pred'])\n",
    "rougher_pred = predictions[\"rougher_pred\"]\n",
    "final_pred = predictions[\"final_pred\"]"
   ]
  },
  {
   "cell_type": "markdown",
   "metadata": {},
   "source": [
    "<div class=\"alert alert-block alert-success\">\n",
    "<b> Comentário do revisor: </b> <a class=\"tocSkip\"></a>\n",
    "\n",
    "Correto\n",
    "</div>\n"
   ]
  },
  {
   "cell_type": "markdown",
   "metadata": {},
   "source": [
    "### Fornecimento dos resultados do teste do modelo selecionado."
   ]
  },
  {
   "cell_type": "code",
   "execution_count": 36,
   "metadata": {},
   "outputs": [
    {
     "data": {
      "text/plain": [
       "6.629277229100472"
      ]
     },
     "execution_count": 36,
     "metadata": {},
     "output_type": "execute_result"
    }
   ],
   "source": [
    "smape_final(rougher, rougher_pred, final, final_pred)"
   ]
  },
  {
   "cell_type": "markdown",
   "metadata": {},
   "source": [
    "Em resumo, este projeto teve como objetivo prever a recuperação de ouro em uma mina utilizando técnicas de aprendizado de máquina. Ele começou importando os módulos necessários, carregando os arquivos de dados e verificando a exatidão dos cálculos da quantidade retirada para a característica rougher.output.recovery. \n",
    "\n",
    "Em seguida, foi feita uma análise das características não disponíveis no conjunto de teste e foi realizado o pré-processamento dos dados, preenchendo os valores ausentes com a média das colunas e verificando a existência de duplicatas. \n",
    "\n",
    "Depois disso, o projeto realizou uma análise dos dados, observando a mudança da concentração de metais (Au, Ag, Pb) dependendo do estágio do processo de recuperação e tratamento de outliers, usando o método do limite inferior e superior.\n",
    "\n",
    "Por fim, foi executada a validação cruzada e otimização de hiperparâmetros utilizando o GridSearchCV. O projeto também realizou a previsão da recuperação de ouro usando o modelo LinearRegression e calculou o erro absoluto médio (EAM) entre as previsões e os valores reais."
   ]
  },
  {
   "cell_type": "markdown",
   "metadata": {},
   "source": [
    "O valor de SMAPE calculado neste projeto é uma medida de desempenho do modelo utilizado para prever a recuperação de ouro. Esse valor indica o quão precisas foram as previsões em relação aos valores reais. Quanto menor o valor de SMAPE, melhor é o desempenho do modelo. Se o valor calculado for alto, pode ser necessário realizar ajustes no modelo ou selecionar características diferentes para melhorar a precisão das previsões. \n",
    "\n",
    "Pela análise realizada e o valor de SMAPE_FINAL obtido, concluímos que este projeto foi bem sucedido em prever a recuperação de ouro utilizando técnicas de aprendizado de máquina."
   ]
  },
  {
   "cell_type": "markdown",
   "metadata": {},
   "source": [
    "<div class=\"alert alert-block alert-success\">\n",
    "<b> Comentário do revisor: </b> <a class=\"tocSkip\"></a>\n",
    "\n",
    "Correto\n",
    "</div>\n"
   ]
  },
  {
   "cell_type": "markdown",
   "metadata": {},
   "source": [
    "<s><div class=\"alert alert-block alert-danger\">\n",
    "<b> Comentário do revisor: </b> <a class=\"tocSkip\"></a>\n",
    "\n",
    "Aqui você reportar os resultados e discuti-los\n",
    "</div>\n"
   ]
  },
  {
   "cell_type": "markdown",
   "metadata": {},
   "source": [
    "\n",
    "<s><div class=\"alert alert-block alert-success\">\n",
    "<b>Comentário Geral do Revisor</b> <a class=\"tocSkip\"></a>\n",
    "\n",
    "Eu acredito que há várias pendências no projeto. Então, oriento procurar um tutor.\n",
    "    \n",
    "<span class=\"text-danger\">Porém, há espaço para melhorias conforme os itens apontados anteriormente. Destaco os  pontos a seguir: </span>\n",
    " * <span class=\"text-danger\"> Uso incorreto de scaler </span>\n",
    " * <span class=\"text-danger\"> Modelo com R2 negativo </span>\n",
    "\n",
    "\n",
    "</div>"
   ]
  },
  {
   "cell_type": "markdown",
   "metadata": {},
   "source": [
    "<div class=\"alert alert-block alert-success\">\n",
    "<b>Comentário Geral do Revisor</b> <a class=\"tocSkip\"></a>\n",
    "\n",
    "O modelo apresenta overfitting. O ideal seria empregar alguma estratégia para evitar overfitting. Me parece que você precisa limitar o tamanho da árvore pelo menos. Eu sugiro você rever esta parte. Por fim, precisa apresentar conclusões. Porém, acho que já chegamos num nível de aceitação. Eu não sei se você já aprendeu técnicas para evitar overfitting.\n",
    "\n",
    "</div>"
   ]
  },
  {
   "cell_type": "markdown",
   "metadata": {},
   "source": [
    "<div class=\"alert alert-block alert-info\">\n",
    "<b>Não me recordo ter estudado técnicas da evitar o overfitting.</b> <a class=\"tocSkip\"></a>\n",
    "</div>"
   ]
  },
  {
   "cell_type": "markdown",
   "metadata": {},
   "source": [
    "<div class=\"alert alert-block alert-success\">\n",
    "<b>Comentário Geral do Revisor</b> <a class=\"tocSkip\"></a>\n",
    "\n",
    "Ok. Vou aprovar o projeto. Parabéns\n",
    "\n",
    "</div>"
   ]
  }
 ],
 "metadata": {
  "kernelspec": {
   "display_name": "Python 3 (ipykernel)",
   "language": "python",
   "name": "python3"
  },
  "language_info": {
   "codemirror_mode": {
    "name": "ipython",
    "version": 3
   },
   "file_extension": ".py",
   "mimetype": "text/x-python",
   "name": "python",
   "nbconvert_exporter": "python",
   "pygments_lexer": "ipython3",
   "version": "3.9.5"
  },
  "toc": {
   "base_numbering": 1,
   "nav_menu": {},
   "number_sections": true,
   "sideBar": true,
   "skip_h1_title": true,
   "title_cell": "Table of Contents",
   "title_sidebar": "Contents",
   "toc_cell": false,
   "toc_position": {},
   "toc_section_display": true,
   "toc_window_display": false
  }
 },
 "nbformat": 4,
 "nbformat_minor": 2
}
